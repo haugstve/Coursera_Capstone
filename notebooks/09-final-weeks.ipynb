{
 "cells": [
  {
   "cell_type": "markdown",
   "metadata": {},
   "source": [
    "# The best place to rent\n",
    "\n",
    "Hill: A person visiting Manhattan can find the best neigbourhood for their needs without needing to do research\n",
    "\n",
    "Using foursquare and travel time this project will group neighboorhods based on venues in that neighboorhod and venues in neighboorhods that are close in travel time"
   ]
  },
  {
   "cell_type": "markdown",
   "metadata": {},
   "source": [
    "## Configure the notebook\n",
    "\n",
    "- Load file with secrets\n",
    "- Set some constants\n",
    "- Load libraries"
   ]
  },
  {
   "cell_type": "markdown",
   "metadata": {},
   "source": [
    "The API secrets are not pushed to github. This is handled by placing them in a file named secrets and removing version control from that file.\n",
    "Since the file is not in the same directory as the notebooks extra code is needed to add the path to the sys search path"
   ]
  },
  {
   "cell_type": "markdown",
   "metadata": {},
   "source": [
    "The secrets file containts two variables used in the Foursquare API: CLIENT_ID and CLIENT_SECRET\n",
    "It contains two variables used int the travel time API: APP_ID and API_KEY"
   ]
  },
  {
   "cell_type": "code",
   "execution_count": 1,
   "metadata": {},
   "outputs": [
    {
     "name": "stdout",
     "output_type": "stream",
     "text": [
      "secrets.py imported\n"
     ]
    }
   ],
   "source": [
    "import os\n",
    "project_folder_path = os.path.dirname(os.getcwd())\n",
    "project_folder_path\n",
    "import sys\n",
    "sys.path.insert(0, project_folder_path)\n",
    "\n",
    "import secrets\n",
    "print('secrets.py imported')"
   ]
  },
  {
   "cell_type": "markdown",
   "metadata": {},
   "source": [
    "The data path contains data loaded from the net. The sanbox accounts used to load the data have limits on the number of requests. Storing the results allows for restarting the kernal without having to make new calls to the API."
   ]
  },
  {
   "cell_type": "code",
   "execution_count": 2,
   "metadata": {},
   "outputs": [
    {
     "name": "stdout",
     "output_type": "stream",
     "text": [
      "Data path is :/Users/danielhaugstvedt/Developer/coursera_capstone/data/external/\n"
     ]
    }
   ],
   "source": [
    "DATA_PATH = project_folder_path + '/data/external/'\n",
    "print('Data path is :{}'.format(DATA_PATH))\n",
    "del project_folder_path"
   ]
  },
  {
   "cell_type": "markdown",
   "metadata": {},
   "source": [
    "Import the standard libraries"
   ]
  },
  {
   "cell_type": "code",
   "execution_count": 3,
   "metadata": {},
   "outputs": [
    {
     "name": "stdout",
     "output_type": "stream",
     "text": [
      "Libraries imported.\n"
     ]
    }
   ],
   "source": [
    "import numpy as np # library to handle data in a vectorized manner\n",
    "import pandas as pd # library for data analsysis\n",
    "\n",
    "from geopy.geocoders import Nominatim # convert an address into latitude and longitude values\n",
    "\n",
    "import requests # library to handle requests\n",
    "import json\n",
    "from pandas.io.json import json_normalize # tranform JSON file into a pandas dataframe\n",
    "\n",
    "# Matplotlib and associated plotting modules\n",
    "import matplotlib.cm as cm\n",
    "import matplotlib.colors as colors\n",
    "import matplotlib.pyplot as plt\n",
    "\n",
    "# import k-means from clustering stage\n",
    "from sklearn.cluster import KMeans\n",
    "from sklearn.decomposition import PCA\n",
    "from sklearn.preprocessing import StandardScaler\n",
    "from sklearn.pipeline import Pipeline\n",
    "\n",
    "import folium # map rendering library\n",
    "\n",
    "import pickle # needed to store variables\n",
    "\n",
    "import time # Try to not overload the traveltime API\n",
    "\n",
    "from importnb import Notebook # Import notebooks\n",
    "\n",
    "print('Libraries imported.')"
   ]
  },
  {
   "cell_type": "markdown",
   "metadata": {},
   "source": [
    "## Get neighborhoods in New York which are not in Manhattan \n",
    "\n",
    "The dataset with neighborhoods for New York exists for free on the [web](https://geo.nyu.edu/catalog/nyu_2451_34572)"
   ]
  },
  {
   "cell_type": "markdown",
   "metadata": {},
   "source": [
    "The information on the webpage where the download link is located gave this information for the element to download a geojson file\n",
    "```\n",
    "<a class=\"btn btn-primary btn-block download download-generated\" \n",
    "   data-download-path=\"/download/nyu-2451-34572?type=geojson\" \n",
    "    data-download=\"trigger\" \n",
    "    data-download-type=\"geojson\" \n",
    "    data-download-id=\"nyu-2451-34572\" href=\"\">Download\n",
    "</a>\n",
    "```"
   ]
  },
  {
   "cell_type": "markdown",
   "metadata": {},
   "source": [
    "Using this information i ran a request. The information from running a request to the URI: `https://geo.nyu.edu/download/nyu-2451-34572?type=geojson` was:\n",
    "\n",
    "`[['success',\n",
    "  '<a data-download=\"trigger\" data-download-id=\"nyu-2451-34572\" data-download-type=\"generated-geojson\" href=\"/download/file/nyu-2451-34572-geojson.json\">Your file nyu-2451-34572-geojson.json is ready for download</a>']]`\n",
    "  \n",
    "I used this information to run the second request:"
   ]
  },
  {
   "cell_type": "code",
   "execution_count": 4,
   "metadata": {},
   "outputs": [
    {
     "name": "stdout",
     "output_type": "stream",
     "text": [
      "Trying to open file: /Users/danielhaugstvedt/Developer/coursera_capstone/data/external/nyu-2451-34572-geojson.json\n",
      "Total number of features in geojsjon: 306\n"
     ]
    }
   ],
   "source": [
    "file_name = 'nyu-2451-34572-geojson.json'\n",
    "URI_NY = 'https://geo.nyu.edu/download/file/nyu-2451-34572-geojson.json'\n",
    "\n",
    "try: \n",
    "    print('Trying to open file: {}'.format(DATA_PATH + file_name))\n",
    "    with open(DATA_PATH + file_name, 'r') as infile:\n",
    "        ny_json = json.load(infile)\n",
    "except FileNotFoundError:\n",
    "    print('Failed to load json from local file, loading from web')\n",
    "    response_ny = requests.get(URI_NY)\n",
    "    print(response_ny.status_code, response_ny.reason)\n",
    "    \n",
    "    ny_json = response_ny.json()\n",
    "    with open(DATA_PATH + file_name, 'w') as outfile:\n",
    "        json.dump(ny_json, outfile)\n",
    "\n",
    "print('Total number of features in geojsjon: {}'.format(ny_json['totalFeatures']))"
   ]
  },
  {
   "cell_type": "markdown",
   "metadata": {},
   "source": [
    "Turn the json file into  a data frame"
   ]
  },
  {
   "cell_type": "code",
   "execution_count": 5,
   "metadata": {},
   "outputs": [],
   "source": [
    "neighborhoods_data = ny_json['features']\n",
    "\n",
    "# define the dataframe columns\n",
    "column_names = ['Borough', 'Neighborhood', 'Latitude', 'Longitude'] \n",
    "\n",
    "# instantiate the dataframe\n",
    "neighborhoods_ny = pd.DataFrame(columns=column_names)\n",
    "\n",
    "for data in neighborhoods_data:\n",
    "    borough = data['properties']['borough'] \n",
    "    neighborhood_name = data['properties']['name']\n",
    "        \n",
    "    neighborhood_latlon = data['geometry']['coordinates']\n",
    "    neighborhood_lat = neighborhood_latlon[1]\n",
    "    neighborhood_lon = neighborhood_latlon[0]\n",
    "    \n",
    "    neighborhoods_ny = neighborhoods_ny.append({'Borough': borough,\n",
    "                                          'Neighborhood': neighborhood_name,\n",
    "                                          'Latitude': neighborhood_lat,\n",
    "                                          'Longitude': neighborhood_lon}, ignore_index=True)"
   ]
  },
  {
   "cell_type": "code",
   "execution_count": 6,
   "metadata": {},
   "outputs": [
    {
     "data": {
      "text/html": [
       "<div>\n",
       "<style scoped>\n",
       "    .dataframe tbody tr th:only-of-type {\n",
       "        vertical-align: middle;\n",
       "    }\n",
       "\n",
       "    .dataframe tbody tr th {\n",
       "        vertical-align: top;\n",
       "    }\n",
       "\n",
       "    .dataframe thead th {\n",
       "        text-align: right;\n",
       "    }\n",
       "</style>\n",
       "<table border=\"1\" class=\"dataframe\">\n",
       "  <thead>\n",
       "    <tr style=\"text-align: right;\">\n",
       "      <th></th>\n",
       "      <th>Borough</th>\n",
       "      <th>Neighborhood</th>\n",
       "      <th>Latitude</th>\n",
       "      <th>Longitude</th>\n",
       "    </tr>\n",
       "  </thead>\n",
       "  <tbody>\n",
       "    <tr>\n",
       "      <th>0</th>\n",
       "      <td>Bronx</td>\n",
       "      <td>Wakefield</td>\n",
       "      <td>40.894705</td>\n",
       "      <td>-73.847201</td>\n",
       "    </tr>\n",
       "    <tr>\n",
       "      <th>1</th>\n",
       "      <td>Bronx</td>\n",
       "      <td>Co-op City</td>\n",
       "      <td>40.874294</td>\n",
       "      <td>-73.829939</td>\n",
       "    </tr>\n",
       "    <tr>\n",
       "      <th>2</th>\n",
       "      <td>Bronx</td>\n",
       "      <td>Eastchester</td>\n",
       "      <td>40.887556</td>\n",
       "      <td>-73.827806</td>\n",
       "    </tr>\n",
       "    <tr>\n",
       "      <th>3</th>\n",
       "      <td>Bronx</td>\n",
       "      <td>Fieldston</td>\n",
       "      <td>40.895437</td>\n",
       "      <td>-73.905643</td>\n",
       "    </tr>\n",
       "    <tr>\n",
       "      <th>4</th>\n",
       "      <td>Bronx</td>\n",
       "      <td>Riverdale</td>\n",
       "      <td>40.890834</td>\n",
       "      <td>-73.912585</td>\n",
       "    </tr>\n",
       "  </tbody>\n",
       "</table>\n",
       "</div>"
      ],
      "text/plain": [
       "  Borough Neighborhood   Latitude  Longitude\n",
       "0   Bronx    Wakefield  40.894705 -73.847201\n",
       "1   Bronx   Co-op City  40.874294 -73.829939\n",
       "2   Bronx  Eastchester  40.887556 -73.827806\n",
       "3   Bronx    Fieldston  40.895437 -73.905643\n",
       "4   Bronx    Riverdale  40.890834 -73.912585"
      ]
     },
     "execution_count": 6,
     "metadata": {},
     "output_type": "execute_result"
    }
   ],
   "source": [
    "neighborhoods_ny.head()"
   ]
  },
  {
   "cell_type": "code",
   "execution_count": 7,
   "metadata": {
    "collapsed": false
   },
   "outputs": [
    {
     "name": "stdout",
     "output_type": "stream",
     "text": [
      "The dataframe has 5 boroughs and 306 neighborhoods.\n"
     ]
    }
   ],
   "source": [
    "print('The dataframe has {} boroughs and {} neighborhoods.'.format(\n",
    "        len(neighborhoods_ny['Borough'].unique()),\n",
    "        neighborhoods_ny.shape[0]\n",
    "    )\n",
    ")"
   ]
  },
  {
   "cell_type": "markdown",
   "metadata": {},
   "source": [
    "Split the data in Manhattan and not Manhattan\n",
    "\n",
    "If there are Neighborhoods with the same name we only keep the neigbourhood listed first\n",
    "A second option is to rename them but without local knowledge this could turn out to be allot of work"
   ]
  },
  {
   "cell_type": "code",
   "execution_count": 8,
   "metadata": {},
   "outputs": [],
   "source": [
    "neighborhoods_not_manhattan = (neighborhoods_ny.loc[neighborhoods_ny['Borough'] != 'Manhattan', \n",
    "                                                   ['Neighborhood', 'Latitude', 'Longitude']]\n",
    "                                               .reset_index(drop=True)\n",
    "                                               .drop_duplicates(subset = 'Neighborhood'))\n",
    "neighborhoods_manhattan = (neighborhoods_ny.loc[neighborhoods_ny['Borough'] == 'Manhattan', \n",
    "                                               ['Neighborhood', 'Latitude', 'Longitude']]\n",
    "                                           .reset_index(drop=True)\n",
    "                                           .drop_duplicates(subset = 'Neighborhood'))"
   ]
  },
  {
   "cell_type": "markdown",
   "metadata": {},
   "source": [
    "Print som key values from the data frames"
   ]
  },
  {
   "cell_type": "code",
   "execution_count": 9,
   "metadata": {},
   "outputs": [
    {
     "name": "stdout",
     "output_type": "stream",
     "text": [
      "The number of neigborhoods in New Yorkbut not in Manhattan is 264\n",
      "The number of neigborhoods in Manhattan is 40\n"
     ]
    }
   ],
   "source": [
    "print(('The number of neigborhoods in New York' \n",
    "       'but not in Manhattan is {}').format(len(neighborhoods_not_manhattan.index)))\n",
    "print(('The number of neigborhoods in Manhattan is {}').format(len(neighborhoods_manhattan.index)))"
   ]
  },
  {
   "cell_type": "markdown",
   "metadata": {},
   "source": [
    "### Clean up the kernal\n",
    "\n",
    "The notbook is so long that cleaning up while running it helps"
   ]
  },
  {
   "cell_type": "code",
   "execution_count": 10,
   "metadata": {},
   "outputs": [
    {
     "name": "stdout",
     "output_type": "stream",
     "text": [
      "Cleaned\n"
     ]
    }
   ],
   "source": [
    "del ny_json\n",
    "del column_names\n",
    "del data\n",
    "del file_name\n",
    "del neighborhoods_ny \n",
    "del neighborhood_lat     \n",
    "del neighborhood_latlon  \n",
    "del neighborhood_lon     \n",
    "del neighborhood_name    \n",
    "del neighborhoods_data    \n",
    "del infile\n",
    "del URI_NY\n",
    "del borough\n",
    "print('Cleaned')"
   ]
  },
  {
   "cell_type": "markdown",
   "metadata": {},
   "source": [
    "## Get the foursquare data for nieghborhoods not in Manhattan\n",
    "\n",
    "Using the foursquare API, get the venues in New York"
   ]
  },
  {
   "cell_type": "code",
   "execution_count": 11,
   "metadata": {},
   "outputs": [],
   "source": [
    "neighborhood_latitude = neighborhoods_not_manhattan['Latitude'] # neighborhood latitude value\n",
    "neighborhood_longitude = neighborhoods_not_manhattan['Longitude'] # neighborhood longitude value\n",
    "neighborhood_name = neighborhoods_not_manhattan['Neighborhood'] # neighborhood name"
   ]
  },
  {
   "cell_type": "markdown",
   "metadata": {},
   "source": [
    "Set some global variables to use in the four square API\n"
   ]
  },
  {
   "cell_type": "code",
   "execution_count": 12,
   "metadata": {},
   "outputs": [],
   "source": [
    "# We want the real number, not a relative number\n",
    "# Thereforw we set the limit to be so high that there should never be any venues droped (this is tested)\n",
    "LIMIT = 500 \n",
    "VERSION = '20180605' "
   ]
  },
  {
   "cell_type": "markdown",
   "metadata": {},
   "source": [
    "Define a function for gettingt nearby venues"
   ]
  },
  {
   "cell_type": "code",
   "execution_count": 13,
   "metadata": {},
   "outputs": [],
   "source": [
    "def getNearbyVenues(names, latitudes, longitudes, radius=500):\n",
    "    \n",
    "    venues_list=[]\n",
    "    for name, lat, lng in zip(names, latitudes, longitudes):\n",
    "        \n",
    "        url = 'https://api.foursquare.com/v2/venues/explore?&client_id={}&client_secret={}&v={}&ll={},{}&radius={}&limit={}'.format(\n",
    "            secrets.CLIENT_ID, \n",
    "            secrets.CLIENT_SECRET, \n",
    "            VERSION, \n",
    "            lat, \n",
    "            lng, \n",
    "            radius, \n",
    "            LIMIT)\n",
    "\n",
    "        results_object = requests.get(url)\n",
    "        if results_object.status_code != 200:\n",
    "            print('A request failed with status code: {} and reason: {}'.format(\n",
    "                    results_object.status_code, \n",
    "                    results_object.reason))\n",
    "            break\n",
    "        \n",
    "        results = results_object.json()[\"response\"]['groups'][0]['items']\n",
    "        print('{} has {} venues'.format(name, len(results)))\n",
    "        \n",
    "        # return only relevant information for each nearby venue\n",
    "        venues_list.append([(\n",
    "            name, \n",
    "            lat, \n",
    "            lng, \n",
    "            v['venue']['name'], \n",
    "            v['venue']['location']['lat'], \n",
    "            v['venue']['location']['lng'],  \n",
    "            v['venue']['categories'][0]['name']) for v in results])\n",
    "\n",
    "    print('makeing a data frame and returning it ')\n",
    "    nearby_venues = pd.DataFrame([item for venue_list in venues_list for item in venue_list])\n",
    "    nearby_venues.columns = ['Neighborhood', \n",
    "                  'Neighborhood Latitude', \n",
    "                  'Neighborhood Longitude', \n",
    "                  'Venue', \n",
    "                  'Venue Latitude', \n",
    "                  'Venue Longitude', \n",
    "                  'Venue Category']\n",
    "    \n",
    "    return(nearby_venues)"
   ]
  },
  {
   "cell_type": "markdown",
   "metadata": {},
   "source": [
    "Check for a file with the data Call the function for getting nearby venues\n",
    "\n",
    "The distance used is calculated like this\n",
    "- Average walking speed 5 km/h\n",
    "- Converted to m/min this is 83.33\n",
    "- A 5 min walk is **416 m**"
   ]
  },
  {
   "cell_type": "code",
   "execution_count": 14,
   "metadata": {},
   "outputs": [
    {
     "name": "stdout",
     "output_type": "stream",
     "text": [
      "Trying to open file: /Users/danielhaugstvedt/Developer/coursera_capstone/data/external/ny_venues.json\n",
      "Sucess loading from file\n"
     ]
    }
   ],
   "source": [
    "radius = 416 # The four square limit parameter uses meters\n",
    "file_name = 'ny_venues.json'\n",
    "try:\n",
    "    print('Trying to open file: {}'.format(DATA_PATH + file_name))\n",
    "    with open(DATA_PATH + file_name, 'rb') as infile:\n",
    "        ny_venues = pickle.load(infile)\n",
    "        print('Sucess loading from file')\n",
    "except FileNotFoundError:\n",
    "    print('Failed to load json from local file, trying to load from web')\n",
    "    ny_venues = getNearbyVenues(neighborhood_name, neighborhood_latitude, neighborhood_longitude, radius)\n",
    "    with open(DATA_PATH + file_name, 'wb') as outfile:\n",
    "        pickle.dump(ny_venues, outfile)"
   ]
  },
  {
   "cell_type": "code",
   "execution_count": 15,
   "metadata": {},
   "outputs": [
    {
     "name": "stdout",
     "output_type": "stream",
     "text": [
      "(5193, 7)\n"
     ]
    },
    {
     "data": {
      "text/html": [
       "<div>\n",
       "<style scoped>\n",
       "    .dataframe tbody tr th:only-of-type {\n",
       "        vertical-align: middle;\n",
       "    }\n",
       "\n",
       "    .dataframe tbody tr th {\n",
       "        vertical-align: top;\n",
       "    }\n",
       "\n",
       "    .dataframe thead th {\n",
       "        text-align: right;\n",
       "    }\n",
       "</style>\n",
       "<table border=\"1\" class=\"dataframe\">\n",
       "  <thead>\n",
       "    <tr style=\"text-align: right;\">\n",
       "      <th></th>\n",
       "      <th>Neighborhood</th>\n",
       "      <th>Neighborhood Latitude</th>\n",
       "      <th>Neighborhood Longitude</th>\n",
       "      <th>Venue</th>\n",
       "      <th>Venue Latitude</th>\n",
       "      <th>Venue Longitude</th>\n",
       "      <th>Venue Category</th>\n",
       "    </tr>\n",
       "  </thead>\n",
       "  <tbody>\n",
       "    <tr>\n",
       "      <th>0</th>\n",
       "      <td>Wakefield</td>\n",
       "      <td>40.894705</td>\n",
       "      <td>-73.847201</td>\n",
       "      <td>Lollipops Gelato</td>\n",
       "      <td>40.894123</td>\n",
       "      <td>-73.845892</td>\n",
       "      <td>Dessert Shop</td>\n",
       "    </tr>\n",
       "    <tr>\n",
       "      <th>1</th>\n",
       "      <td>Wakefield</td>\n",
       "      <td>40.894705</td>\n",
       "      <td>-73.847201</td>\n",
       "      <td>Rite Aid</td>\n",
       "      <td>40.896521</td>\n",
       "      <td>-73.844680</td>\n",
       "      <td>Pharmacy</td>\n",
       "    </tr>\n",
       "    <tr>\n",
       "      <th>2</th>\n",
       "      <td>Wakefield</td>\n",
       "      <td>40.894705</td>\n",
       "      <td>-73.847201</td>\n",
       "      <td>Pitman Deli</td>\n",
       "      <td>40.894149</td>\n",
       "      <td>-73.845748</td>\n",
       "      <td>Food</td>\n",
       "    </tr>\n",
       "    <tr>\n",
       "      <th>3</th>\n",
       "      <td>Co-op City</td>\n",
       "      <td>40.874294</td>\n",
       "      <td>-73.829939</td>\n",
       "      <td>Capri II Pizza</td>\n",
       "      <td>40.876374</td>\n",
       "      <td>-73.829940</td>\n",
       "      <td>Pizza Place</td>\n",
       "    </tr>\n",
       "    <tr>\n",
       "      <th>4</th>\n",
       "      <td>Co-op City</td>\n",
       "      <td>40.874294</td>\n",
       "      <td>-73.829939</td>\n",
       "      <td>Sleepy's Co-Op City</td>\n",
       "      <td>40.872234</td>\n",
       "      <td>-73.828607</td>\n",
       "      <td>Mattress Store</td>\n",
       "    </tr>\n",
       "  </tbody>\n",
       "</table>\n",
       "</div>"
      ],
      "text/plain": [
       "  Neighborhood  Neighborhood Latitude  Neighborhood Longitude  \\\n",
       "0    Wakefield              40.894705              -73.847201   \n",
       "1    Wakefield              40.894705              -73.847201   \n",
       "2    Wakefield              40.894705              -73.847201   \n",
       "3   Co-op City              40.874294              -73.829939   \n",
       "4   Co-op City              40.874294              -73.829939   \n",
       "\n",
       "                 Venue  Venue Latitude  Venue Longitude  Venue Category  \n",
       "0     Lollipops Gelato       40.894123       -73.845892    Dessert Shop  \n",
       "1             Rite Aid       40.896521       -73.844680        Pharmacy  \n",
       "2          Pitman Deli       40.894149       -73.845748            Food  \n",
       "3       Capri II Pizza       40.876374       -73.829940     Pizza Place  \n",
       "4  Sleepy's Co-Op City       40.872234       -73.828607  Mattress Store  "
      ]
     },
     "execution_count": 15,
     "metadata": {},
     "output_type": "execute_result"
    }
   ],
   "source": [
    "print(ny_venues.shape)\n",
    "ny_venues.head()"
   ]
  },
  {
   "cell_type": "markdown",
   "metadata": {},
   "source": [
    "### Limit the number of neigboorhods\n",
    "\n",
    "First we limit it to the results from foursquare. If there are no venues in foursquare we do not need to evaluate the result\n",
    "\n",
    "In the proof of concept the limit was 20 first neighborhoods. For the final presentation it was set to 100. It is easy to extend this to more neigborhoods later. 262 is the maximum\n",
    "\n",
    "We did not get all the venues from all the neigborhoods because the API is on a sandbox account\n",
    "Therefore we need to check which Neighborhood so we can use them in the Travel Time API "
   ]
  },
  {
   "cell_type": "code",
   "execution_count": 16,
   "metadata": {},
   "outputs": [],
   "source": [
    "neighborhoods_tmp = pd.DataFrame({'Neighborhood': ny_venues.Neighborhood.unique()}) # make a dataframe with unique values\n",
    "neighborhoods_foursquare = neighborhoods_not_manhattan.merge(neighborhoods_tmp, how = 'right', on = 'Neighborhood')"
   ]
  },
  {
   "cell_type": "code",
   "execution_count": 17,
   "metadata": {},
   "outputs": [
    {
     "data": {
      "text/plain": [
       "(262, 3)"
      ]
     },
     "execution_count": 17,
     "metadata": {},
     "output_type": "execute_result"
    }
   ],
   "source": [
    "neighborhoods_foursquare.shape"
   ]
  },
  {
   "cell_type": "markdown",
   "metadata": {},
   "source": [
    "This cell was only needed during the POC\n",
    "Now that all the data is used it is not needed.\n",
    "\n",
    "Refactoring code could be an option but the time spent seems too long"
   ]
  },
  {
   "cell_type": "code",
   "execution_count": 18,
   "metadata": {},
   "outputs": [],
   "source": [
    "n_neighborhoods = 262\n",
    "\n",
    "neighborhoods_final = neighborhoods_foursquare.iloc[0:n_neighborhoods]\n",
    "\n",
    "ny_venues_final = ny_venues.merge(\n",
    "    pd.DataFrame({'Neighborhood': neighborhoods_final.Neighborhood}), \n",
    "    how = 'right', \n",
    "    on = 'Neighborhood')\n"
   ]
  },
  {
   "cell_type": "code",
   "execution_count": 19,
   "metadata": {},
   "outputs": [
    {
     "name": "stdout",
     "output_type": "stream",
     "text": [
      "(262, 3)\n",
      "(5193, 7)\n"
     ]
    }
   ],
   "source": [
    "print(neighborhoods_final.shape)\n",
    "print(ny_venues_final.shape)"
   ]
  },
  {
   "cell_type": "markdown",
   "metadata": {},
   "source": [
    "### Store the values so that the travel time can run a a separate script"
   ]
  },
  {
   "cell_type": "code",
   "execution_count": 20,
   "metadata": {},
   "outputs": [],
   "source": [
    "file_name = 'neighborhoods_final.p'\n",
    "with open(DATA_PATH + file_name, 'wb') as outfile:\n",
    "    pickle.dump(neighborhoods_final, outfile)"
   ]
  },
  {
   "cell_type": "code",
   "execution_count": 21,
   "metadata": {},
   "outputs": [],
   "source": [
    "file_name = 'ny_venues_final.p'\n",
    "with open(DATA_PATH + file_name, 'wb') as outfile:\n",
    "    pickle.dump(ny_venues_final, outfile)"
   ]
  },
  {
   "cell_type": "markdown",
   "metadata": {},
   "source": [
    "### Clean up the kernal\n",
    "\n",
    "The notbook is so long that cleaning up while running it helps"
   ]
  },
  {
   "cell_type": "code",
   "execution_count": 22,
   "metadata": {},
   "outputs": [
    {
     "name": "stdout",
     "output_type": "stream",
     "text": [
      "Cleaned\n"
     ]
    }
   ],
   "source": [
    "del LIMIT\n",
    "del VERSION\n",
    "del file_name\n",
    "del infile\n",
    "del outfile \n",
    "del radius     \n",
    "del neighborhoods_tmp  \n",
    "del neighborhoods_not_manhattan     \n",
    "del neighborhoods_manhattan    \n",
    "del neighborhoods_foursquare    \n",
    "del n_neighborhoods\n",
    "del getNearbyVenues\n",
    "del ny_venues\n",
    "del neighborhood_latitude\n",
    "del neighborhood_longitude\n",
    "del neighborhood_name\n",
    "print('Cleaned')"
   ]
  },
  {
   "cell_type": "markdown",
   "metadata": {},
   "source": [
    "## Get the travel time between the different neighborhoods\n",
    "\n",
    "Using the traveltime API, get the travel time between the different neighborhoods\n",
    "\n",
    "This has been moved to a new notebook. The reason is that the API was returning too manu requests. This was handled by saving the results, rewritin ghte code. Waiting for some thime and then run the new code. This means the code is ugly.\n",
    "\n",
    "Refactoring would take too much time\n",
    "\n",
    "**Warning** the variables used in the imported notebook which I do not intend to use in this notebook are deleted. THis means some variables in this notbook could disapear if the name is wrong. The imported notwbook would have changed their value anyway, so this is safer. Using a naming scheme like ending varialbenames with _ is too much work. The point of this hack is to save time"
   ]
  },
  {
   "cell_type": "code",
   "execution_count": 23,
   "metadata": {},
   "outputs": [
    {
     "name": "stdout",
     "output_type": "stream",
     "text": [
      "secrets.py imported\n",
      "Data path is :/Users/danielhaugstvedt/Developer/coursera_capstone/data/external/\n",
      "Libraries imported.\n",
      "We need less than 2000 locations. The number we are using is 262\n",
      "Trying to open file: /Users/danielhaugstvedt/Developer/coursera_capstone/data/external/traveltime_0_149.p\n",
      "Sucess loading from file\n",
      "150\n",
      "150\n",
      "Trying to open file: /Users/danielhaugstvedt/Developer/coursera_capstone/data/external/traveltime_150_192.p\n",
      "Sucess loading from file\n",
      "43\n",
      "43\n",
      "Trying to open file: /Users/danielhaugstvedt/Developer/coursera_capstone/data/external/traveltime_193_260.p\n",
      "Sucess loading from file\n",
      "68\n",
      "68\n",
      "Trying to open file: /Users/danielhaugstvedt/Developer/coursera_capstone/data/external/traveltime_261.p\n",
      "Sucess loading from file\n",
      "1\n"
     ]
    }
   ],
   "source": [
    "with Notebook(): \n",
    "        import travel_time"
   ]
  },
  {
   "cell_type": "code",
   "execution_count": 24,
   "metadata": {},
   "outputs": [],
   "source": [
    "travel_time_df = travel_time.travel_time_df"
   ]
  },
  {
   "cell_type": "markdown",
   "metadata": {},
   "source": [
    "### Clean up the kernal\n",
    "\n",
    "The notbook is so long that cleaning up while running it helps"
   ]
  },
  {
   "cell_type": "code",
   "execution_count": 25,
   "metadata": {},
   "outputs": [
    {
     "name": "stdout",
     "output_type": "stream",
     "text": [
      "Cleaned\n"
     ]
    }
   ],
   "source": [
    "del travel_time\n",
    "print('Cleaned')"
   ]
  },
  {
   "cell_type": "markdown",
   "metadata": {},
   "source": [
    "## Describe the neighborhoods using the pricipal components analysis\n",
    "\n",
    "Tested approches:\n",
    "\n",
    "- Fit PCA to local venues first and extract the two pricipal components (PC). Use the same components on the venues that are weighted with travel\n",
    "\n",
    "- Fit a separate PCA to both the local venues and the venues weighted with local venues (This is the one presented)\n",
    "\n",
    "- Merge the data and run a PCA on the combined information\n",
    "\n",
    "Untested:\n",
    "- Sum the local and the venues that er weighted with travel. This has not been tested. This is becuse most of the value proposition is from telling a nerative. Beeing able to seperate the two factors seems really important."
   ]
  },
  {
   "cell_type": "markdown",
   "metadata": {},
   "source": [
    "### Prep the data\n",
    "\n",
    "There are two datasets, the first is the local venues. It is made in to steps\n",
    "- Make one hot encoding of the venues\n",
    "- Sum the venues from each cite\n",
    "\n",
    "The second dataset is the weighted sum of the venues from other neighborhoods. The weight is inverse proportional to the number of hurs"
   ]
  },
  {
   "cell_type": "markdown",
   "metadata": {},
   "source": [
    "Make the local dataset"
   ]
  },
  {
   "cell_type": "code",
   "execution_count": 26,
   "metadata": {},
   "outputs": [],
   "source": [
    "ny_onehot = pd.get_dummies(ny_venues_final[['Venue Category']], prefix=\"\", prefix_sep=\"\", dtype = 'float')\n",
    "ny_onehot['Neighborhood'] = ny_venues_final['Neighborhood']\n",
    "local_venues_df = ny_onehot.groupby('Neighborhood').agg('sum')"
   ]
  },
  {
   "cell_type": "markdown",
   "metadata": {},
   "source": [
    "Make the travel dataset (weigted sum)"
   ]
  },
  {
   "cell_type": "code",
   "execution_count": 27,
   "metadata": {},
   "outputs": [],
   "source": [
    "travel_venues_df = travel_time_df.dot(local_venues_df)  "
   ]
  },
  {
   "cell_type": "code",
   "execution_count": 28,
   "metadata": {},
   "outputs": [
    {
     "name": "stdout",
     "output_type": "stream",
     "text": [
      "(262, 353) (262, 353) (262, 262)\n"
     ]
    }
   ],
   "source": [
    "print(local_venues_df.shape, travel_venues_df.shape, travel_time_df.shape)"
   ]
  },
  {
   "cell_type": "code",
   "execution_count": 29,
   "metadata": {},
   "outputs": [],
   "source": [
    "### Do PCA on the local venues dataset"
   ]
  },
  {
   "cell_type": "code",
   "execution_count": 30,
   "metadata": {},
   "outputs": [],
   "source": [
    "# standarize the data\n",
    "x = StandardScaler().fit_transform(local_venues_df.values) \n",
    "\n",
    "pca = PCA(n_components=2)\n",
    "pca.fit(x)\n",
    "\n",
    "# Get the PC of the local\n",
    "principalComponents = pca.transform(x)\n",
    "principalDf = pd.DataFrame(\n",
    "    data = principalComponents, \n",
    "    columns = ['principal component 1', 'principal component 2'],\n",
    "    index = local_venues_df.index)"
   ]
  },
  {
   "cell_type": "code",
   "execution_count": 31,
   "metadata": {},
   "outputs": [
    {
     "data": {
      "text/plain": [
       "<matplotlib.axes._subplots.AxesSubplot at 0x1a2131f5c0>"
      ]
     },
     "execution_count": 31,
     "metadata": {},
     "output_type": "execute_result"
    },
    {
     "data": {
      "image/png": "[encoded data removed]",
      "text/plain": [
       "<Figure size 432x288 with 1 Axes>"
      ]
     },
     "metadata": {
      "needs_background": "light"
     },
     "output_type": "display_data"
    }
   ],
   "source": [
    "%matplotlib inline\n",
    "\n",
    "principalDf.plot.scatter(x='principal component 1',y='principal component 2')"
   ]
  },
  {
   "cell_type": "markdown",
   "metadata": {},
   "source": [
    "The four outliers really hurt the PCA. Removing them might make it easier to see how the other neighborhoods behave "
   ]
  },
  {
   "cell_type": "code",
   "execution_count": 32,
   "metadata": {},
   "outputs": [
    {
     "name": "stdout",
     "output_type": "stream",
     "text": [
      "Index(['Carroll Gardens', 'Downtown', 'Greenpoint', 'North Side',\n",
      "       'South Side'],\n",
      "      dtype='object', name='Neighborhood')\n"
     ]
    },
    {
     "data": {
      "text/plain": [
       "Neighborhood\n",
       "Carroll Gardens     90.0\n",
       "Downtown           100.0\n",
       "Greenpoint         100.0\n",
       "North Side         100.0\n",
       "South Side         100.0\n",
       "dtype: float64"
      ]
     },
     "execution_count": 32,
     "metadata": {},
     "output_type": "execute_result"
    }
   ],
   "source": [
    "special_neighborhoods = principalDf.loc[principalDf['principal component 1']>15,:]\n",
    "print(special_neighborhoods.index)\n",
    "special_neighborhoods_df = local_venues_df.loc[special_neighborhoods.index,:]\n",
    "special_neighborhoods_df.sum(axis=1)"
   ]
  },
  {
   "cell_type": "markdown",
   "metadata": {},
   "source": [
    "They all have close to a 100 venues. 4 hava exactly a 100 venues. The later is due to the PAI and the sandbokx account.\n",
    "\n",
    "Exluding them from the data (they could be used with the Manhattan data instead) should result in results that makes more sence"
   ]
  },
  {
   "cell_type": "code",
   "execution_count": 33,
   "metadata": {},
   "outputs": [],
   "source": [
    "is_special = local_venues_df.index.isin(special_neighborhoods.index)\n",
    "local_venues_clean_df = local_venues_df[~is_special]"
   ]
  },
  {
   "cell_type": "code",
   "execution_count": 34,
   "metadata": {},
   "outputs": [],
   "source": [
    "# standarize the data\n",
    "x_clean = StandardScaler().fit_transform(local_venues_clean_df.values) \n",
    "\n",
    "pca1 = PCA(n_components=2)\n",
    "pca1.fit(x_clean)\n",
    "\n",
    "# Get the PC of the local\n",
    "principalComponents_clean = pca1.transform(x_clean)\n",
    "principalDf_clean = pd.DataFrame(data = principalComponents_clean\n",
    "             , columns = ['principal component 1', 'principal component 2'])"
   ]
  },
  {
   "cell_type": "code",
   "execution_count": 35,
   "metadata": {},
   "outputs": [
    {
     "data": {
      "text/plain": [
       "<matplotlib.axes._subplots.AxesSubplot at 0x1a21327550>"
      ]
     },
     "execution_count": 35,
     "metadata": {},
     "output_type": "execute_result"
    },
    {
     "data": {
      "image/png": "[encoded data removed]",
      "text/plain": [
       "<Figure size 432x288 with 1 Axes>"
      ]
     },
     "metadata": {
      "needs_background": "light"
     },
     "output_type": "display_data"
    }
   ],
   "source": [
    "principalDf_clean.plot.scatter(x='principal component 1', y='principal component 2')"
   ]
  },
  {
   "cell_type": "markdown",
   "metadata": {},
   "source": [
    "It looks better, There is one new outlier. Looking at the amount of variance explained tells us more."
   ]
  },
  {
   "cell_type": "code",
   "execution_count": 36,
   "metadata": {},
   "outputs": [
    {
     "name": "stdout",
     "output_type": "stream",
     "text": [
      "The two first principal components explain 9.6% of the variance in the local data\n",
      "The two first principal components explain 7.8% of the variance in the cleaned local data\n"
     ]
    }
   ],
   "source": [
    "print(('The two first principal components explain {:.1%} of '\n",
    "      'the variance in the local data').format(\n",
    "    sum(pca.explained_variance_ratio_)\n",
    "    ))\n",
    "print(('The two first principal components explain {:.1%} of '\n",
    "      'the variance in the cleaned local data').format(\n",
    "    sum(pca1.explained_variance_ratio_)\n",
    "    ))"
   ]
  },
  {
   "cell_type": "markdown",
   "metadata": {},
   "source": [
    "The PCA was not that sucessfull. The large number of zeros in the data and the high number of venu types makes this a problem where PCA seems to come up a bit short.\n",
    "\n",
    "Switching to a simple count of the number of venues might be just as good as the PCA. "
   ]
  },
  {
   "cell_type": "markdown",
   "metadata": {},
   "source": [
    "**Attribute 1: Busy**\n",
    "\n",
    "The first atribute is the total number of venues in the neighborhood. This variable will be names busy. It seems like a fair name and it is easy to understand. "
   ]
  },
  {
   "cell_type": "markdown",
   "metadata": {},
   "source": [
    "### Travel data PCA\n",
    "\n",
    "The travel data is a weighted combination of the venues which you can get to with public transport.\n",
    "\n",
    "The venues removed becouse they are super busy are included in the values. This means you are allowd to travel to them. They are excluded from the PCA. A neighborhood needs local information to be interesting\n",
    "\n",
    "A possible imporvment is to also includ the venues from Manhattan. These are all super busy and the numbers are probably wrong as they have 100+ venues. Before improving the data we should explore what can be done with the current data. \n",
    "\n"
   ]
  },
  {
   "cell_type": "code",
   "execution_count": 37,
   "metadata": {},
   "outputs": [],
   "source": [
    "is_special = travel_venues_df.index.isin(special_neighborhoods.index)\n",
    "travel_venues_clean_df = travel_venues_df[~is_special]"
   ]
  },
  {
   "cell_type": "code",
   "execution_count": 38,
   "metadata": {},
   "outputs": [],
   "source": [
    "x_travel = StandardScaler().fit_transform(travel_venues_clean_df.values) \n",
    "\n",
    "pca2 = PCA(n_components=2)\n",
    "pca2.fit(x_travel)\n",
    "\n",
    "principalComponents_travel = pca2.transform(x_travel)\n",
    "principalDf_travel = pd.DataFrame(\n",
    "    data = principalComponents_travel, \n",
    "    columns = ['principal component 1', 'principal component 2'])"
   ]
  },
  {
   "cell_type": "code",
   "execution_count": 39,
   "metadata": {},
   "outputs": [
    {
     "data": {
      "text/plain": [
       "<matplotlib.axes._subplots.AxesSubplot at 0x1a20852320>"
      ]
     },
     "execution_count": 39,
     "metadata": {},
     "output_type": "execute_result"
    },
    {
     "data": {
      "image/png": "[encoded data removed]",
      "text/plain": [
       "<Figure size 432x288 with 1 Axes>"
      ]
     },
     "metadata": {
      "needs_background": "light"
     },
     "output_type": "display_data"
    }
   ],
   "source": [
    "principalDf_travel.plot.scatter(x='principal component 1', y='principal component 2')"
   ]
  },
  {
   "cell_type": "code",
   "execution_count": 40,
   "metadata": {},
   "outputs": [
    {
     "name": "stdout",
     "output_type": "stream",
     "text": [
      "The two first principal components explain 81.2% % of the variance in the travel data\n"
     ]
    }
   ],
   "source": [
    "print(('The two first principal components explain {:.1%} % of '\n",
    "      'the variance in the travel data').format(\n",
    "    sum(pca2.explained_variance_ratio_ )\n",
    "    ))"
   ]
  },
  {
   "cell_type": "markdown",
   "metadata": {},
   "source": [
    "It looks like the PCA worked very well on the travel data. They could most likely be used to tell a story which will make sence to users. "
   ]
  },
  {
   "cell_type": "markdown",
   "metadata": {},
   "source": [
    "### Understanding the PCs of the travel data\n",
    "\n",
    "The final step is to check what the two components means"
   ]
  },
  {
   "cell_type": "markdown",
   "metadata": {},
   "source": [
    "A histogram of the values in the principal component is a good start. We start with the first PC"
   ]
  },
  {
   "cell_type": "code",
   "execution_count": 41,
   "metadata": {},
   "outputs": [
    {
     "data": {
      "image/png": "[encoded data removed]",
      "text/plain": [
       "<Figure size 432x288 with 1 Axes>"
      ]
     },
     "metadata": {
      "needs_background": "light"
     },
     "output_type": "display_data"
    }
   ],
   "source": [
    "plt.hist(pca2.components_[0], bins='auto')  # arguments are passed to np.histogram\n",
    "plt.show()"
   ]
  },
  {
   "cell_type": "markdown",
   "metadata": {},
   "source": [
    "**Atribute 2: Connectivity**\n",
    "\n",
    "The first PC from the travel dataset is names COnnectivity. Most of the values from component 1 are between 0.05 and 0.06. This means a high value for PC 1 is thae same as having many venues reachable fast with public transport. "
   ]
  },
  {
   "cell_type": "code",
   "execution_count": 42,
   "metadata": {},
   "outputs": [
    {
     "data": {
      "image/png": "[encoded data removed]",
      "text/plain": [
       "<Figure size 432x288 with 1 Axes>"
      ]
     },
     "metadata": {
      "needs_background": "light"
     },
     "output_type": "display_data"
    }
   ],
   "source": [
    "plt.hist(pca2.components_[1], bins='auto')  # arguments are passed to np.histogram\n",
    "plt.show()"
   ]
  },
  {
   "cell_type": "markdown",
   "metadata": {},
   "source": [
    "There are a continuum of values for PC 2. Looking at the once that are above 0.10 and below -0.5 might give some clue to what name should be used for the feature"
   ]
  },
  {
   "cell_type": "code",
   "execution_count": 43,
   "metadata": {},
   "outputs": [
    {
     "data": {
      "text/plain": [
       "Index(['Automotive Shop', 'Baseball Stadium', 'Beach', 'Beach Bar',\n",
       "       'Bed & Breakfast', 'Board Shop', 'Building', 'Bus Line',\n",
       "       'Construction & Landscaping', 'Farm', 'Golf Course', 'Home Service',\n",
       "       'Paella Restaurant', 'Road', 'Sake Bar', 'Skating Rink', 'Smoke Shop',\n",
       "       'Surf Spot', 'Varenyky restaurant'],\n",
       "      dtype='object')"
      ]
     },
     "execution_count": 43,
     "metadata": {},
     "output_type": "execute_result"
    }
   ],
   "source": [
    "travel_venues_clean_df.iloc[:, pca2.components_[1] > 0.10].columns"
   ]
  },
  {
   "cell_type": "markdown",
   "metadata": {},
   "source": [
    "Looking at these i get a fealing of being in California. Even more than that I get the fealing of beeing outside a city center.  "
   ]
  },
  {
   "cell_type": "code",
   "execution_count": 44,
   "metadata": {},
   "outputs": [
    {
     "data": {
      "text/plain": [
       "Index(['Adult Boutique', 'Arts & Entertainment', 'Baby Store', 'Beer Bar',\n",
       "       'Bike Shop', 'Boxing Gym', 'Climbing Gym', 'College Quad', 'Comic Shop',\n",
       "       'Coworking Space', 'Creperie', 'Cycle Studio', 'Ethiopian Restaurant',\n",
       "       'Gaming Cafe', 'Garden', 'Garden Center', 'Hawaiian Restaurant',\n",
       "       'History Museum', 'Israeli Restaurant', 'Jewelry Store',\n",
       "       'Kebab Restaurant', 'Lebanese Restaurant', 'Mac & Cheese Joint',\n",
       "       'Massage Studio', 'Movie Theater', 'Music Store', 'Newsstand',\n",
       "       'Pakistani Restaurant', 'Piercing Parlor', 'Poke Place',\n",
       "       'Residential Building (Apartment / Condo)', 'Speakeasy', 'Tennis Court',\n",
       "       'Theme Park Ride / Attraction', 'Tiki Bar', 'Wine Bar'],\n",
       "      dtype='object')"
      ]
     },
     "execution_count": 44,
     "metadata": {},
     "output_type": "execute_result"
    }
   ],
   "source": [
    "travel_venues_clean_df.iloc[:, pca2.components_[1] < -0.07].columns"
   ]
  },
  {
   "cell_type": "markdown",
   "metadata": {},
   "source": [
    "Looking at these i get a feeling of being in New York. Even more than that I get the fealing of beeing inside a city center. "
   ]
  },
  {
   "cell_type": "markdown",
   "metadata": {},
   "source": [
    "**Atribute 3: Urban**\n",
    "\n",
    "Transforming the PC2 by simply changing the sign it seems to fit the name urban. This makes it possible to havw some place urban but not busy which sounds cool."
   ]
  },
  {
   "cell_type": "markdown",
   "metadata": {},
   "source": [
    "### Clean up the kernal\n",
    "\n",
    "The notbook is so long that cleaning up while running it helps"
   ]
  },
  {
   "cell_type": "code",
   "execution_count": 45,
   "metadata": {},
   "outputs": [
    {
     "name": "stdout",
     "output_type": "stream",
     "text": [
      "Cleaned\n"
     ]
    }
   ],
   "source": [
    "del pca\n",
    "del pca1\n",
    "del pca2\n",
    "del ny_onehot\n",
    "del ny_venues_final\n",
    "del local_venues_df \n",
    "del neighborhoods_final\n",
    "del principalComponents\n",
    "del principalComponents_clean\n",
    "del principalComponents_travel\n",
    "del principalDf\n",
    "del principalDf_clean\n",
    "del travel_time_df\n",
    "del travel_venues_clean_df\n",
    "del travel_venues_df\n",
    "del x\n",
    "del x_clean\n",
    "del x_travel\n",
    "del special_neighborhoods\n",
    "del special_neighborhoods_df\n",
    "\n",
    "print('Cleaned')"
   ]
  },
  {
   "cell_type": "markdown",
   "metadata": {},
   "source": [
    "## Add the three atributes to the venues\n",
    "\n",
    "Busy, Urban and Connected are the tree atributes we will provide users with. \n",
    "\n",
    "Increasing accuracy of the features and adding new attributes are a long term goal but the need for Data Science is no longer pivotal to the progress. A front end whcih can be used etc. is needed to make a minimal viable product. When that is done, more effort should be put on improving the quality and the number of atributes."
   ]
  },
  {
   "cell_type": "code",
   "execution_count": 64,
   "metadata": {},
   "outputs": [],
   "source": [
    "attribute_one = local_venues_clean_df.sum(axis = 1).to_frame()\n",
    "\n",
    "attribute_two_three = principalDf_travel.copy()\n",
    "attribute_two_three.index = attribute_one.index\n",
    "attribute_two_three['principal component 2'] = -attribute_two_three['principal component 2']\n",
    "attributes = pd.merge(attribute_one, attribute_two_three, \n",
    "                      how='inner', on='Neighborhood')"
   ]
  },
  {
   "cell_type": "markdown",
   "metadata": {},
   "source": [
    "Now we set the column names"
   ]
  },
  {
   "cell_type": "code",
   "execution_count": 65,
   "metadata": {},
   "outputs": [],
   "source": [
    "attributes.columns = ['Busy', 'Connected', 'Urban']"
   ]
  },
  {
   "cell_type": "markdown",
   "metadata": {},
   "source": [
    "## Visualize the neighborhoods in a map \n",
    "\n",
    "Use the geocoding from travel time to get longetiude and altitude of Central Park in New York\n",
    "\n",
    "Use the longitude and latitude to make a map of manhattan\n",
    "\n",
    "Add labels for every neigbouthoods into the manhattan map"
   ]
  },
  {
   "cell_type": "code",
   "execution_count": null,
   "metadata": {},
   "outputs": [],
   "source": [
    "query = 'Murray Hill, New York'\n",
    "URI_traveltime = 'HTTPS://api.traveltimeapp.com/v4/geocoding/search?query={}'.format(query)\n",
    "print('URI is : {}'.format(URI_traveltime))\n",
    "headers = {'Host': 'api.traveltimeapp.com',\n",
    "           'Accept': 'application/json', \n",
    "           'X-Application-Id': secrets.APP_ID, # APP ID is in separate file not under version control\n",
    "           'X-Api-Key': secrets.API_KEY} # API_KEY is in separate file not under version control\n",
    "result = requests.get(URI_traveltime, headers=headers)\n",
    "print(result.status_code, result.reason)"
   ]
  },
  {
   "cell_type": "code",
   "execution_count": null,
   "metadata": {},
   "outputs": [],
   "source": [
    "new_york_location_data = result.json()['features'][0]\n",
    "[longitude, latitude] = new_york_location_data['geometry']['coordinates']\n",
    "print(longitude, latitude)"
   ]
  },
  {
   "cell_type": "code",
   "execution_count": null,
   "metadata": {},
   "outputs": [],
   "source": [
    "# create map of Manhattan using latitude and longitude values\n",
    "map_new_york = folium.Map(location=[latitude, longitude], zoom_start=11)\n",
    "\n",
    "locations = neighborhoods_final.loc[:, 'Neighborhood']\n",
    "latitudes = neighborhoods_final.loc[:, 'Latitude']\n",
    "longitudes = neighborhoods_final.loc[:, 'Longitude']\n",
    "\n",
    "# add markers to map\n",
    "for lat, lng, label in zip(latitudes, longitudes, locations):\n",
    "    label = folium.Popup(label, parse_html=True)\n",
    "    folium.CircleMarker(\n",
    "        [lat, lng],\n",
    "        radius=5,\n",
    "        popup=label,\n",
    "        color='blue',\n",
    "        fill=True,\n",
    "        fill_color='#3186cc',\n",
    "        fill_opacity=0.7).add_to(map_new_york)  \n",
    "map_new_york"
   ]
  }
 ],
 "metadata": {
  "kernelspec": {
   "display_name": "Python [conda env:coursera_capstone]",
   "language": "python",
   "name": "conda-env-coursera_capstone-py"
  },
  "language_info": {
   "codemirror_mode": {
    "name": "ipython",
    "version": 3
   },
   "file_extension": ".py",
   "mimetype": "text/x-python",
   "name": "python",
   "nbconvert_exporter": "python",
   "pygments_lexer": "ipython3",
   "version": "3.6.7"
  }
 },
 "nbformat": 4,
 "nbformat_minor": 2
}
