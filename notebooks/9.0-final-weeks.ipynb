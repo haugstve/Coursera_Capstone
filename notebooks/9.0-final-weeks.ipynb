{
 "cells": [
  {
   "cell_type": "markdown",
   "metadata": {},
   "source": [
    "# The best place to rent\n",
    "\n",
    "Hill: A person visiting Manhattan can find the best neigbourhood for their needs without needing to do research\n",
    "\n",
    "Using foursquare and travel time this project will group neighboorhods based on venues in that neighboorhod and venues in neighboorhods that are close in travel time"
   ]
  },
  {
   "cell_type": "markdown",
   "metadata": {},
   "source": [
    "## Configure the notebook\n",
    "\n",
    "- Load file with secrets\n",
    "- Set some constants\n",
    "- Load libraries"
   ]
  },
  {
   "cell_type": "markdown",
   "metadata": {},
   "source": [
    "The API secrets are not pushed to github. This is handled by placing them in a file named secrets and removing version control from that file.\n",
    "Since the file is not in the same directory as the notebooks extra code is needed to add the path to the sys search path"
   ]
  },
  {
   "cell_type": "markdown",
   "metadata": {},
   "source": [
    "The secrets file containts two variables used in the Foursquare API: CLIENT_ID and CLIENT_SECRET\n",
    "It contains two variables used int the travel time API: APP_ID and API_KEY"
   ]
  },
  {
   "cell_type": "code",
   "execution_count": 1,
   "metadata": {},
   "outputs": [
    {
     "name": "stdout",
     "output_type": "stream",
     "text": [
      "secrets.py imported\n"
     ]
    }
   ],
   "source": [
    "import os\n",
    "project_folder_path = os.path.dirname(os.getcwd())\n",
    "project_folder_path\n",
    "import sys\n",
    "sys.path.insert(0, project_folder_path)\n",
    "\n",
    "import secrets\n",
    "print('secrets.py imported')"
   ]
  },
  {
   "cell_type": "markdown",
   "metadata": {},
   "source": [
    "The data path contains data loaded from the net. The sanbox accounts used to load the data have limits on the number of requests. Storing the results allows for restarting the kernal without having to make new calls to the API."
   ]
  },
  {
   "cell_type": "code",
   "execution_count": 2,
   "metadata": {},
   "outputs": [
    {
     "name": "stdout",
     "output_type": "stream",
     "text": [
      "Data path is :/Users/danielhaugstvedt/Developer/coursera_capstone/data/external/\n"
     ]
    }
   ],
   "source": [
    "DATA_PATH = project_folder_path + '/data/external/'\n",
    "print('Data path is :{}'.format(DATA_PATH))"
   ]
  },
  {
   "cell_type": "markdown",
   "metadata": {},
   "source": [
    "Import the standard libraries"
   ]
  },
  {
   "cell_type": "code",
   "execution_count": 3,
   "metadata": {},
   "outputs": [
    {
     "name": "stdout",
     "output_type": "stream",
     "text": [
      "Libraries imported.\n"
     ]
    }
   ],
   "source": [
    "import numpy as np # library to handle data in a vectorized manner\n",
    "import pandas as pd # library for data analsysis\n",
    "\n",
    "from geopy.geocoders import Nominatim # convert an address into latitude and longitude values\n",
    "\n",
    "import requests # library to handle requests\n",
    "import json\n",
    "from pandas.io.json import json_normalize # tranform JSON file into a pandas dataframe\n",
    "\n",
    "# Matplotlib and associated plotting modules\n",
    "import matplotlib.cm as cm\n",
    "import matplotlib.colors as colors\n",
    "\n",
    "# import k-means from clustering stage\n",
    "from sklearn.cluster import KMeans\n",
    "\n",
    "import folium # map rendering library\n",
    "\n",
    "import pickle # needed to store variables\n",
    "\n",
    "import time # Try to not overload the traveltime API\n",
    "\n",
    "print('Libraries imported.')"
   ]
  },
  {
   "cell_type": "markdown",
   "metadata": {},
   "source": [
    "## Get neighborhoods in New York which are not in Manhattan \n",
    "\n",
    "The dataset with neighborhoods for New York exists for free on the [web](https://geo.nyu.edu/catalog/nyu_2451_34572)"
   ]
  },
  {
   "cell_type": "markdown",
   "metadata": {},
   "source": [
    "The information on the webpage where the download link is located gave this information for the element to download a geojson file\n",
    "```\n",
    "<a class=\"btn btn-primary btn-block download download-generated\" \n",
    "   data-download-path=\"/download/nyu-2451-34572?type=geojson\" \n",
    "    data-download=\"trigger\" \n",
    "    data-download-type=\"geojson\" \n",
    "    data-download-id=\"nyu-2451-34572\" href=\"\">Download\n",
    "</a>\n",
    "```"
   ]
  },
  {
   "cell_type": "markdown",
   "metadata": {},
   "source": [
    "Using this information i ran a request. The information from running a request to the URI: `https://geo.nyu.edu/download/nyu-2451-34572?type=geojson` was:\n",
    "\n",
    "`[['success',\n",
    "  '<a data-download=\"trigger\" data-download-id=\"nyu-2451-34572\" data-download-type=\"generated-geojson\" href=\"/download/file/nyu-2451-34572-geojson.json\">Your file nyu-2451-34572-geojson.json is ready for download</a>']]`\n",
    "  \n",
    "I used this information to run the second request:"
   ]
  },
  {
   "cell_type": "code",
   "execution_count": 4,
   "metadata": {},
   "outputs": [
    {
     "name": "stdout",
     "output_type": "stream",
     "text": [
      "Trying to open file: /Users/danielhaugstvedt/Developer/coursera_capstone/data/external/nyu-2451-34572-geojson.json\n",
      "Total number of features in geojsjon: 306\n"
     ]
    }
   ],
   "source": [
    "file_name = 'nyu-2451-34572-geojson.json'\n",
    "URI_NY = 'https://geo.nyu.edu/download/file/nyu-2451-34572-geojson.json'\n",
    "\n",
    "try: \n",
    "    print('Trying to open file: {}'.format(DATA_PATH + file_name))\n",
    "    with open(DATA_PATH + file_name, 'r') as infile:\n",
    "        ny_json = json.load(infile)\n",
    "except FileNotFoundError:\n",
    "    print('Failed to load json from local file, loading from web')\n",
    "    response_ny = requests.get(URI_NY)\n",
    "    print(response_ny.status_code, response_ny.reason)\n",
    "    \n",
    "    ny_json = response_ny.json()\n",
    "    with open(DATA_PATH + file_name, 'w') as outfile:\n",
    "        json.dump(ny_json, outfile)\n",
    "\n",
    "print('Total number of features in geojsjon: {}'.format(ny_json['totalFeatures']))"
   ]
  },
  {
   "cell_type": "markdown",
   "metadata": {},
   "source": [
    "Turn the json file into  a data frame"
   ]
  },
  {
   "cell_type": "code",
   "execution_count": 5,
   "metadata": {},
   "outputs": [],
   "source": [
    "neighborhoods_data = ny_json['features']\n",
    "\n",
    "# define the dataframe columns\n",
    "column_names = ['Borough', 'Neighborhood', 'Latitude', 'Longitude'] \n",
    "\n",
    "# instantiate the dataframe\n",
    "neighborhoods_ny = pd.DataFrame(columns=column_names)\n",
    "\n",
    "for data in neighborhoods_data:\n",
    "    borough = data['properties']['borough'] \n",
    "    neighborhood_name = data['properties']['name']\n",
    "        \n",
    "    neighborhood_latlon = data['geometry']['coordinates']\n",
    "    neighborhood_lat = neighborhood_latlon[1]\n",
    "    neighborhood_lon = neighborhood_latlon[0]\n",
    "    \n",
    "    neighborhoods_ny = neighborhoods_ny.append({'Borough': borough,\n",
    "                                          'Neighborhood': neighborhood_name,\n",
    "                                          'Latitude': neighborhood_lat,\n",
    "                                          'Longitude': neighborhood_lon}, ignore_index=True)"
   ]
  },
  {
   "cell_type": "code",
   "execution_count": 6,
   "metadata": {},
   "outputs": [
    {
     "data": {
      "text/html": [
       "<div>\n",
       "<style scoped>\n",
       "    .dataframe tbody tr th:only-of-type {\n",
       "        vertical-align: middle;\n",
       "    }\n",
       "\n",
       "    .dataframe tbody tr th {\n",
       "        vertical-align: top;\n",
       "    }\n",
       "\n",
       "    .dataframe thead th {\n",
       "        text-align: right;\n",
       "    }\n",
       "</style>\n",
       "<table border=\"1\" class=\"dataframe\">\n",
       "  <thead>\n",
       "    <tr style=\"text-align: right;\">\n",
       "      <th></th>\n",
       "      <th>Borough</th>\n",
       "      <th>Neighborhood</th>\n",
       "      <th>Latitude</th>\n",
       "      <th>Longitude</th>\n",
       "    </tr>\n",
       "  </thead>\n",
       "  <tbody>\n",
       "    <tr>\n",
       "      <th>0</th>\n",
       "      <td>Bronx</td>\n",
       "      <td>Wakefield</td>\n",
       "      <td>40.894705</td>\n",
       "      <td>-73.847201</td>\n",
       "    </tr>\n",
       "    <tr>\n",
       "      <th>1</th>\n",
       "      <td>Bronx</td>\n",
       "      <td>Co-op City</td>\n",
       "      <td>40.874294</td>\n",
       "      <td>-73.829939</td>\n",
       "    </tr>\n",
       "    <tr>\n",
       "      <th>2</th>\n",
       "      <td>Bronx</td>\n",
       "      <td>Eastchester</td>\n",
       "      <td>40.887556</td>\n",
       "      <td>-73.827806</td>\n",
       "    </tr>\n",
       "    <tr>\n",
       "      <th>3</th>\n",
       "      <td>Bronx</td>\n",
       "      <td>Fieldston</td>\n",
       "      <td>40.895437</td>\n",
       "      <td>-73.905643</td>\n",
       "    </tr>\n",
       "    <tr>\n",
       "      <th>4</th>\n",
       "      <td>Bronx</td>\n",
       "      <td>Riverdale</td>\n",
       "      <td>40.890834</td>\n",
       "      <td>-73.912585</td>\n",
       "    </tr>\n",
       "  </tbody>\n",
       "</table>\n",
       "</div>"
      ],
      "text/plain": [
       "  Borough Neighborhood   Latitude  Longitude\n",
       "0   Bronx    Wakefield  40.894705 -73.847201\n",
       "1   Bronx   Co-op City  40.874294 -73.829939\n",
       "2   Bronx  Eastchester  40.887556 -73.827806\n",
       "3   Bronx    Fieldston  40.895437 -73.905643\n",
       "4   Bronx    Riverdale  40.890834 -73.912585"
      ]
     },
     "execution_count": 6,
     "metadata": {},
     "output_type": "execute_result"
    }
   ],
   "source": [
    "neighborhoods_ny.head()"
   ]
  },
  {
   "cell_type": "code",
   "execution_count": 7,
   "metadata": {
    "collapsed": false
   },
   "outputs": [
    {
     "name": "stdout",
     "output_type": "stream",
     "text": [
      "The dataframe has 5 boroughs and 306 neighborhoods.\n"
     ]
    }
   ],
   "source": [
    "print('The dataframe has {} boroughs and {} neighborhoods.'.format(\n",
    "        len(neighborhoods_ny['Borough'].unique()),\n",
    "        neighborhoods_ny.shape[0]\n",
    "    )\n",
    ")"
   ]
  },
  {
   "cell_type": "markdown",
   "metadata": {},
   "source": [
    "Split the data in Manhattan and not Manhattan\n",
    "\n",
    "If there are Neighborhoods with the same name we only keep the neigbourhood listed first\n",
    "A second option is to rename them but without local knowledge this could turn out to be allot of work"
   ]
  },
  {
   "cell_type": "code",
   "execution_count": 8,
   "metadata": {},
   "outputs": [],
   "source": [
    "neighborhoods_not_manhattan = (neighborhoods_ny.loc[neighborhoods_ny['Borough'] != 'Manhattan', \n",
    "                                                   ['Neighborhood', 'Latitude', 'Longitude']]\n",
    "                                               .reset_index(drop=True)\n",
    "                                               .drop_duplicates(subset = 'Neighborhood'))\n",
    "neighborhoods_manhattan = (neighborhoods_ny.loc[neighborhoods_ny['Borough'] == 'Manhattan', \n",
    "                                               ['Neighborhood', 'Latitude', 'Longitude']]\n",
    "                                           .reset_index(drop=True)\n",
    "                                           .drop_duplicates(subset = 'Neighborhood'))"
   ]
  },
  {
   "cell_type": "markdown",
   "metadata": {},
   "source": [
    "Print som key values from the data frames"
   ]
  },
  {
   "cell_type": "code",
   "execution_count": 9,
   "metadata": {},
   "outputs": [
    {
     "name": "stdout",
     "output_type": "stream",
     "text": [
      "The number of neigborhoods in New Yorkbut not in Manhattan is 264\n",
      "The number of neigborhoods in Manhattan is 40\n"
     ]
    }
   ],
   "source": [
    "print(('The number of neigborhoods in New York' \n",
    "       'but not in Manhattan is {}').format(len(neighborhoods_not_manhattan.index)))\n",
    "print(('The number of neigborhoods in Manhattan is {}').format(len(neighborhoods_manhattan.index)))"
   ]
  },
  {
   "cell_type": "markdown",
   "metadata": {},
   "source": [
    "## Get the foursquare data for nieghborhoods not in Manhattan\n",
    "\n",
    "Using the foursquare API, get the venues in New York"
   ]
  },
  {
   "cell_type": "code",
   "execution_count": 10,
   "metadata": {},
   "outputs": [],
   "source": [
    "neighborhood_latitude = neighborhoods_not_manhattan['Latitude'] # neighborhood latitude value\n",
    "neighborhood_longitude = neighborhoods_not_manhattan['Longitude'] # neighborhood longitude value\n",
    "neighborhood_name = neighborhoods_not_manhattan['Neighborhood'] # neighborhood name"
   ]
  },
  {
   "cell_type": "markdown",
   "metadata": {},
   "source": [
    "Set some global variables to use in the four square API\n"
   ]
  },
  {
   "cell_type": "code",
   "execution_count": 11,
   "metadata": {},
   "outputs": [],
   "source": [
    "# We want the real number, not a relative number\n",
    "# Thereforw we set the limit to be so high that there should never be any venues droped (this is tested)\n",
    "LIMIT = 500 \n",
    "VERSION = '20180605' "
   ]
  },
  {
   "cell_type": "markdown",
   "metadata": {},
   "source": [
    "Define a function for gettingt nearby venues"
   ]
  },
  {
   "cell_type": "code",
   "execution_count": 12,
   "metadata": {},
   "outputs": [],
   "source": [
    "def getNearbyVenues(names, latitudes, longitudes, radius=500):\n",
    "    \n",
    "    venues_list=[]\n",
    "    for name, lat, lng in zip(names, latitudes, longitudes):\n",
    "        \n",
    "        url = 'https://api.foursquare.com/v2/venues/explore?&client_id={}&client_secret={}&v={}&ll={},{}&radius={}&limit={}'.format(\n",
    "            secrets.CLIENT_ID, \n",
    "            secrets.CLIENT_SECRET, \n",
    "            VERSION, \n",
    "            lat, \n",
    "            lng, \n",
    "            radius, \n",
    "            LIMIT)\n",
    "\n",
    "        results_object = requests.get(url)\n",
    "        if results_object.status_code != 200:\n",
    "            print('A request failed with status code: {} and reason: {}'.format(\n",
    "                    results_object.status_code, \n",
    "                    results_object.reason))\n",
    "            break\n",
    "        \n",
    "        results = results_object.json()[\"response\"]['groups'][0]['items']\n",
    "        print('{} has {} venues'.format(name, len(results)))\n",
    "        \n",
    "        # return only relevant information for each nearby venue\n",
    "        venues_list.append([(\n",
    "            name, \n",
    "            lat, \n",
    "            lng, \n",
    "            v['venue']['name'], \n",
    "            v['venue']['location']['lat'], \n",
    "            v['venue']['location']['lng'],  \n",
    "            v['venue']['categories'][0]['name']) for v in results])\n",
    "\n",
    "    print('makeing a data frame and returning it ')\n",
    "    nearby_venues = pd.DataFrame([item for venue_list in venues_list for item in venue_list])\n",
    "    nearby_venues.columns = ['Neighborhood', \n",
    "                  'Neighborhood Latitude', \n",
    "                  'Neighborhood Longitude', \n",
    "                  'Venue', \n",
    "                  'Venue Latitude', \n",
    "                  'Venue Longitude', \n",
    "                  'Venue Category']\n",
    "    \n",
    "    return(nearby_venues)"
   ]
  },
  {
   "cell_type": "markdown",
   "metadata": {},
   "source": [
    "Check for a file with the data Call the function for getting nearby venues\n",
    "\n",
    "The distance used is calculated like this\n",
    "- Average walking speed 5 km/h\n",
    "- Converted to m/min this is 83.33\n",
    "- A 5 min walk is **416 m**"
   ]
  },
  {
   "cell_type": "code",
   "execution_count": 13,
   "metadata": {},
   "outputs": [
    {
     "name": "stdout",
     "output_type": "stream",
     "text": [
      "Trying to open file: /Users/danielhaugstvedt/Developer/coursera_capstone/data/external/ny_venues.json\n",
      "Sucess loading from file\n"
     ]
    }
   ],
   "source": [
    "radius = 416 # The four square limit parameter uses meters\n",
    "file_name = 'ny_venues.json'\n",
    "try:\n",
    "    print('Trying to open file: {}'.format(DATA_PATH + file_name))\n",
    "    with open(DATA_PATH + file_name, 'rb') as infile:\n",
    "        ny_venues = pickle.load(infile)\n",
    "        print('Sucess loading from file')\n",
    "except FileNotFoundError:\n",
    "    print('Failed to load json from local file, trying to load from web')\n",
    "    ny_venues = getNearbyVenues(neighborhood_name, neighborhood_latitude, neighborhood_longitude, radius)\n",
    "    with open(DATA_PATH + file_name, 'wb') as outfile:\n",
    "        pickle.dump(ny_venues, outfile)"
   ]
  },
  {
   "cell_type": "code",
   "execution_count": 14,
   "metadata": {},
   "outputs": [
    {
     "name": "stdout",
     "output_type": "stream",
     "text": [
      "(5193, 7)\n"
     ]
    },
    {
     "data": {
      "text/html": [
       "<div>\n",
       "<style scoped>\n",
       "    .dataframe tbody tr th:only-of-type {\n",
       "        vertical-align: middle;\n",
       "    }\n",
       "\n",
       "    .dataframe tbody tr th {\n",
       "        vertical-align: top;\n",
       "    }\n",
       "\n",
       "    .dataframe thead th {\n",
       "        text-align: right;\n",
       "    }\n",
       "</style>\n",
       "<table border=\"1\" class=\"dataframe\">\n",
       "  <thead>\n",
       "    <tr style=\"text-align: right;\">\n",
       "      <th></th>\n",
       "      <th>Neighborhood</th>\n",
       "      <th>Neighborhood Latitude</th>\n",
       "      <th>Neighborhood Longitude</th>\n",
       "      <th>Venue</th>\n",
       "      <th>Venue Latitude</th>\n",
       "      <th>Venue Longitude</th>\n",
       "      <th>Venue Category</th>\n",
       "    </tr>\n",
       "  </thead>\n",
       "  <tbody>\n",
       "    <tr>\n",
       "      <th>0</th>\n",
       "      <td>Wakefield</td>\n",
       "      <td>40.894705</td>\n",
       "      <td>-73.847201</td>\n",
       "      <td>Lollipops Gelato</td>\n",
       "      <td>40.894123</td>\n",
       "      <td>-73.845892</td>\n",
       "      <td>Dessert Shop</td>\n",
       "    </tr>\n",
       "    <tr>\n",
       "      <th>1</th>\n",
       "      <td>Wakefield</td>\n",
       "      <td>40.894705</td>\n",
       "      <td>-73.847201</td>\n",
       "      <td>Rite Aid</td>\n",
       "      <td>40.896521</td>\n",
       "      <td>-73.844680</td>\n",
       "      <td>Pharmacy</td>\n",
       "    </tr>\n",
       "    <tr>\n",
       "      <th>2</th>\n",
       "      <td>Wakefield</td>\n",
       "      <td>40.894705</td>\n",
       "      <td>-73.847201</td>\n",
       "      <td>Pitman Deli</td>\n",
       "      <td>40.894149</td>\n",
       "      <td>-73.845748</td>\n",
       "      <td>Food</td>\n",
       "    </tr>\n",
       "    <tr>\n",
       "      <th>3</th>\n",
       "      <td>Co-op City</td>\n",
       "      <td>40.874294</td>\n",
       "      <td>-73.829939</td>\n",
       "      <td>Capri II Pizza</td>\n",
       "      <td>40.876374</td>\n",
       "      <td>-73.829940</td>\n",
       "      <td>Pizza Place</td>\n",
       "    </tr>\n",
       "    <tr>\n",
       "      <th>4</th>\n",
       "      <td>Co-op City</td>\n",
       "      <td>40.874294</td>\n",
       "      <td>-73.829939</td>\n",
       "      <td>Sleepy's Co-Op City</td>\n",
       "      <td>40.872234</td>\n",
       "      <td>-73.828607</td>\n",
       "      <td>Mattress Store</td>\n",
       "    </tr>\n",
       "  </tbody>\n",
       "</table>\n",
       "</div>"
      ],
      "text/plain": [
       "  Neighborhood  Neighborhood Latitude  Neighborhood Longitude  \\\n",
       "0    Wakefield              40.894705              -73.847201   \n",
       "1    Wakefield              40.894705              -73.847201   \n",
       "2    Wakefield              40.894705              -73.847201   \n",
       "3   Co-op City              40.874294              -73.829939   \n",
       "4   Co-op City              40.874294              -73.829939   \n",
       "\n",
       "                 Venue  Venue Latitude  Venue Longitude  Venue Category  \n",
       "0     Lollipops Gelato       40.894123       -73.845892    Dessert Shop  \n",
       "1             Rite Aid       40.896521       -73.844680        Pharmacy  \n",
       "2          Pitman Deli       40.894149       -73.845748            Food  \n",
       "3       Capri II Pizza       40.876374       -73.829940     Pizza Place  \n",
       "4  Sleepy's Co-Op City       40.872234       -73.828607  Mattress Store  "
      ]
     },
     "execution_count": 14,
     "metadata": {},
     "output_type": "execute_result"
    }
   ],
   "source": [
    "print(ny_venues.shape)\n",
    "ny_venues.head()"
   ]
  },
  {
   "cell_type": "markdown",
   "metadata": {},
   "source": [
    "## Limit the number of neigboorhods\n",
    "\n",
    "First we limit it to the results from foursquare. If there are no venues in foursquare we do not need to evaluate the result\n",
    "\n",
    "Since this is a proof of concept we limit it to the 20 first neighborhoods. It is easy to extend this to more neigborhoods later.\n",
    "\n",
    "We did not get all the venues from all the neigborhoods because the API is on a sandbox account\n",
    "Therefore we need to check which Neighborhood so we can use them in the Travel Time API "
   ]
  },
  {
   "cell_type": "code",
   "execution_count": 15,
   "metadata": {},
   "outputs": [],
   "source": [
    "neighborhoods_tmp = pd.DataFrame({'Neighborhood': ny_venues.Neighborhood.unique()}) # make a dataframe with unique values\n",
    "neighborhoods_foursquare = neighborhoods_not_manhattan.merge(neighborhoods_tmp, how = 'right', on = 'Neighborhood')"
   ]
  },
  {
   "cell_type": "code",
   "execution_count": 16,
   "metadata": {},
   "outputs": [
    {
     "data": {
      "text/plain": [
       "(262, 3)"
      ]
     },
     "execution_count": 16,
     "metadata": {},
     "output_type": "execute_result"
    }
   ],
   "source": [
    "neighborhoods_foursquare.shape"
   ]
  },
  {
   "cell_type": "code",
   "execution_count": 17,
   "metadata": {},
   "outputs": [],
   "source": [
    "n_neighborhoods = 20\n",
    "\n",
    "neighborhoods_final = neighborhoods_foursquare.iloc[0:20]\n",
    "\n",
    "ny_venues_final = ny_venues.merge(\n",
    "    pd.DataFrame({'Neighborhood': neighborhoods_final.Neighborhood}), \n",
    "    how = 'right', \n",
    "    on = 'Neighborhood')\n"
   ]
  },
  {
   "cell_type": "code",
   "execution_count": 18,
   "metadata": {},
   "outputs": [
    {
     "name": "stdout",
     "output_type": "stream",
     "text": [
      "(20, 3)\n",
      "(374, 7)\n"
     ]
    }
   ],
   "source": [
    "print(neighborhoods_final.shape)\n",
    "print(ny_venues_final.shape)"
   ]
  },
  {
   "cell_type": "markdown",
   "metadata": {},
   "source": [
    "## Get the travel time between the different neighborhoods\n",
    "\n",
    "Using the traveltime API, get the travel time between the different neighborhoods"
   ]
  },
  {
   "cell_type": "markdown",
   "metadata": {},
   "source": [
    "**Post request example**\n",
    "\n",
    "```\n",
    "POST /v4/time-filter HTTP/1.1\n",
    "Host: api.traveltimeapp.com\n",
    "Content-Type: application/json\n",
    "Accept: application/json\n",
    "X-Application-Id: APP_ID\n",
    "X-Api-Key: API_KEY\n",
    "```"
   ]
  },
  {
   "cell_type": "markdown",
   "metadata": {},
   "source": [
    "Convert the information in the post request example to URI and header"
   ]
  },
  {
   "cell_type": "code",
   "execution_count": 45,
   "metadata": {},
   "outputs": [],
   "source": [
    "URI_traveltime = 'HTTPS://api.traveltimeapp.com/v4/time-filter'\n",
    "headers = {'Host': 'api.traveltimeapp.com',\n",
    "           'Content-Type': 'application/json', \n",
    "           'Accept': 'application/json', \n",
    "           'X-Application-Id': secrets.APP_ID, # APP ID is in separate file not under version control\n",
    "           'X-Api-Key': secrets.API_KEY} # API_KEY is in separate file not under version control"
   ]
  },
  {
   "cell_type": "markdown",
   "metadata": {},
   "source": [
    "Fuction that adds locations to the json request"
   ]
  },
  {
   "cell_type": "code",
   "execution_count": 46,
   "metadata": {},
   "outputs": [],
   "source": [
    "def add_locations(locations, latitudes, longitudes):\n",
    "    \n",
    "    json_request = {'locations': [], 'departure_searches':[], 'arrival_searches':[]}\n",
    "    \n",
    "    for loc, lat, long in zip(locations, latitudes, longitudes):\n",
    "        json_request['locations'].append({\n",
    "            'id': loc,\n",
    "            'coords': {\n",
    "                'lat': lat, \n",
    "                'lng': long\n",
    "            }\n",
    "        })\n",
    "    \n",
    "    return json_request"
   ]
  },
  {
   "cell_type": "markdown",
   "metadata": {},
   "source": [
    "Add a searches to the json request"
   ]
  },
  {
   "cell_type": "code",
   "execution_count": 47,
   "metadata": {},
   "outputs": [],
   "source": [
    "def add_search(json_request, from_location, travel_time, departure_time):\n",
    "    \n",
    "    arrival_dic = json_request['locations']  \n",
    "    arrival_locations = []\n",
    "    for location_dic in arrival_dic:\n",
    "        arrival_locations.append(location_dic['id'])\n",
    "        \n",
    "    del arrival_locations[arrival_locations.index(from_location)] # array\n",
    "    \n",
    "    json_request['departure_searches'].append({\n",
    "        'id': 'from {}'.format(from_location),\n",
    "        'departure_location_id': from_location,\n",
    "        'arrival_location_ids': arrival_locations,\n",
    "        'transportation': {'type': 'public_transport'}, # public_transport is an alternative\n",
    "        'departure_time' : departure_time,\n",
    "        'travel_time': travel_time, # 60s/min*60min/h*2h \n",
    "        'range': {\n",
    "                'enabled': True,\n",
    "                'max_results': 3,\n",
    "                'width': 600\n",
    "            },\n",
    "        'properties': ['travel_time']\n",
    "    })\n",
    "    \n",
    "    return json_request"
   ]
  },
  {
   "cell_type": "markdown",
   "metadata": {},
   "source": [
    "Make three vectors\n",
    "\n",
    "- limits on API is 2000 arival locations\n",
    "- limits on API is 10 searches"
   ]
  },
  {
   "cell_type": "code",
   "execution_count": 60,
   "metadata": {},
   "outputs": [
    {
     "name": "stdout",
     "output_type": "stream",
     "text": [
      "We need less than 2000 locations. The number we are using is 20\n"
     ]
    }
   ],
   "source": [
    "locations = neighborhoods_final.loc[:, 'Neighborhood']\n",
    "latitudes = neighborhoods_final.loc[:, 'Latitude']\n",
    "longitudes = neighborhoods_final.loc[:, 'Longitude']\n",
    "print('We need less than 2000 locations. The number we are using is {}'.format(len(locations)))"
   ]
  },
  {
   "cell_type": "markdown",
   "metadata": {},
   "source": [
    "Test if the file are stored, if not load the the data from the API\n",
    "\n",
    "When using the API, loop through all locations and do a post request where \n",
    "the location is the origin of the search."
   ]
  },
  {
   "cell_type": "code",
   "execution_count": 61,
   "metadata": {},
   "outputs": [
    {
     "name": "stdout",
     "output_type": "stream",
     "text": [
      "Trying to open file: /Users/danielhaugstvedt/Developer/coursera_capstone/data/external/traveltime.p\n",
      "Failed to load from local file, trying to load from web\n",
      "add_search: adding search from Wakefield\n",
      "The post request json has search_id: Wakefield\n",
      "Result using Wakefield as origin returned with status code: 200 and reason: OK\n",
      "add_search: adding search from Co-op City\n",
      "The post request json has search_id: Co-op City\n",
      "Result using Co-op City as origin returned with status code: 200 and reason: OK\n",
      "add_search: adding search from Eastchester\n",
      "The post request json has search_id: Eastchester\n",
      "Result using Eastchester as origin returned with status code: 200 and reason: OK\n",
      "add_search: adding search from Fieldston\n",
      "The post request json has search_id: Fieldston\n",
      "Result using Fieldston as origin returned with status code: 200 and reason: OK\n",
      "add_search: adding search from Riverdale\n",
      "The post request json has search_id: Riverdale\n",
      "Result using Riverdale as origin returned with status code: 200 and reason: OK\n",
      "add_search: adding search from Kingsbridge\n",
      "The post request json has search_id: Kingsbridge\n",
      "Result using Kingsbridge as origin returned with status code: 200 and reason: OK\n",
      "add_search: adding search from Woodlawn\n",
      "The post request json has search_id: Woodlawn\n",
      "Result using Woodlawn as origin returned with status code: 200 and reason: OK\n",
      "add_search: adding search from Norwood\n",
      "The post request json has search_id: Norwood\n",
      "Result using Norwood as origin returned with status code: 200 and reason: OK\n",
      "add_search: adding search from Williamsbridge\n",
      "The post request json has search_id: Williamsbridge\n",
      "Result using Williamsbridge as origin returned with status code: 200 and reason: OK\n",
      "add_search: adding search from Baychester\n",
      "The post request json has search_id: Baychester\n",
      "Result using Baychester as origin returned with status code: 200 and reason: OK\n",
      "add_search: adding search from Pelham Parkway\n",
      "The post request json has search_id: Pelham Parkway\n",
      "Result using Pelham Parkway as origin returned with status code: 200 and reason: OK\n",
      "add_search: adding search from City Island\n",
      "The post request json has search_id: City Island\n",
      "Result using City Island as origin returned with status code: 200 and reason: OK\n",
      "add_search: adding search from Bedford Park\n",
      "The post request json has search_id: Bedford Park\n",
      "Result using Bedford Park as origin returned with status code: 200 and reason: OK\n",
      "add_search: adding search from University Heights\n",
      "The post request json has search_id: University Heights\n",
      "Result using University Heights as origin returned with status code: 200 and reason: OK\n",
      "add_search: adding search from Morris Heights\n",
      "The post request json has search_id: Morris Heights\n",
      "Result using Morris Heights as origin returned with status code: 200 and reason: OK\n",
      "add_search: adding search from Fordham\n",
      "The post request json has search_id: Fordham\n",
      "Result using Fordham as origin returned with status code: 200 and reason: OK\n",
      "add_search: adding search from East Tremont\n",
      "The post request json has search_id: East Tremont\n",
      "Result using East Tremont as origin returned with status code: 200 and reason: OK\n",
      "add_search: adding search from West Farms\n",
      "The post request json has search_id: West Farms\n",
      "Result using West Farms as origin returned with status code: 200 and reason: OK\n",
      "add_search: adding search from High  Bridge\n",
      "The post request json has search_id: High  Bridge\n",
      "Result using High  Bridge as origin returned with status code: 200 and reason: OK\n",
      "add_search: adding search from Melrose\n",
      "The post request json has search_id: Melrose\n",
      "Result using Melrose as origin returned with status code: 200 and reason: OK\n"
     ]
    }
   ],
   "source": [
    "file_name = 'traveltime.p'\n",
    "\n",
    "try:\n",
    "    print('Trying to open file: {}'.format(DATA_PATH + file_name))\n",
    "    with open(DATA_PATH + file_name, 'rb') as infile:\n",
    "        results = pickle.load(infile)\n",
    "        print('Sucess loading from file')\n",
    "except FileNotFoundError:\n",
    "    print('Failed to load from local file, trying to load from web')\n",
    "    results = []\n",
    "    for location in locations:\n",
    "        json_request_setup = add_locations(locations, latitudes, longitudes)\n",
    "        json_request = add_search(json_request_setup, location, 60*60*1.5, '2019-01-11T13:00:00Z')\n",
    "        print('The post request json has search_id: {}'.format(json_request['departure_searches'][0]['departure_location_id']))\n",
    "        \n",
    "        result = requests.post(URI_traveltime, headers=headers, json=json_request)\n",
    "        print(('Result using {} as origin returned with '\n",
    "               'status code: {} and reason: {}').format(location, result.status_code, result.reason))\n",
    "        if result.status_code != 200:\n",
    "            break\n",
    "            \n",
    "        json_result = result.json()\n",
    "        results.append(json_result['results'])\n",
    "        #time.sleep(60) # sleep 60 s, this is used when doing many queries. The api can get overloaded.\n",
    "        \n",
    "    with open(DATA_PATH + file_name, 'wb') as outfile:\n",
    "        pickle.dump(results, outfile)\n",
    "\n",
    "# print(json.dumps(json_request_2, indent=4, sort_keys=True))"
   ]
  },
  {
   "cell_type": "code",
   "execution_count": 62,
   "metadata": {},
   "outputs": [
    {
     "data": {
      "text/plain": [
       "20"
      ]
     },
     "execution_count": 62,
     "metadata": {},
     "output_type": "execute_result"
    }
   ],
   "source": [
    "len(results)"
   ]
  },
  {
   "cell_type": "markdown",
   "metadata": {},
   "source": [
    "## Make the travel time into json into a data frame"
   ]
  },
  {
   "cell_type": "code",
   "execution_count": null,
   "metadata": {},
   "outputs": [],
   "source": []
  },
  {
   "cell_type": "markdown",
   "metadata": {},
   "source": [
    "## Visualize the map \n",
    "\n",
    "Use the geocoding from travel time to get longetiude and altitude of manhattan\n",
    "\n",
    "Use the longitude and latitude to make a map of manhattan\n",
    "\n",
    "Add labels for every neigbouthoods into the manhattan map"
   ]
  },
  {
   "cell_type": "code",
   "execution_count": null,
   "metadata": {},
   "outputs": [],
   "source": [
    "query = 'Central Park, New York'\n",
    "URI_traveltime = 'HTTPS://api.traveltimeapp.com/v4/geocoding/search?query={}'.format(query)\n",
    "print('URI is : {}'.format(URI_traveltime))\n",
    "headers = {'Host': 'api.traveltimeapp.com',\n",
    "           'Accept': 'application/json', \n",
    "           'X-Application-Id': secrets.APP_ID, # APP ID is in separate file not under version control\n",
    "           'X-Api-Key': secrets.API_KEY} # API_KEY is in separate file not under version control"
   ]
  },
  {
   "cell_type": "code",
   "execution_count": null,
   "metadata": {},
   "outputs": [],
   "source": [
    "r = requests.get(URI_traveltime, headers=headers)\n",
    "\n",
    "print(r.status_code, r.reason)\n",
    "r.url"
   ]
  },
  {
   "cell_type": "code",
   "execution_count": null,
   "metadata": {},
   "outputs": [],
   "source": [
    "r.json()"
   ]
  },
  {
   "cell_type": "code",
   "execution_count": null,
   "metadata": {},
   "outputs": [],
   "source": [
    "manhattan_location_data = r.json()['features'][0]\n",
    "[longitude, latitude] = manhattan_location_data['geometry']['coordinates']"
   ]
  },
  {
   "cell_type": "code",
   "execution_count": null,
   "metadata": {},
   "outputs": [],
   "source": [
    "# create map of Manhattan using latitude and longitude values\n",
    "map_manhattan = folium.Map(location=[latitude, longitude], zoom_start=12)\n",
    "\n",
    "# add markers to map\n",
    "for lat, lng, label in zip(neighborhoods['Latitude'], neighborhoods['Longitude'], neighborhoods['Neighborhood']):\n",
    "    label = folium.Popup(label, parse_html=True)\n",
    "    folium.CircleMarker(\n",
    "        [lat, lng],\n",
    "        radius=5,\n",
    "        popup=label,\n",
    "        color='blue',\n",
    "        fill=True,\n",
    "        fill_color='#3186cc',\n",
    "        fill_opacity=0.7).add_to(map_manhattan)  \n",
    "map_manhattan"
   ]
  }
 ],
 "metadata": {
  "kernelspec": {
   "display_name": "Python [conda env:coursera_capstone]",
   "language": "python",
   "name": "conda-env-coursera_capstone-py"
  },
  "language_info": {
   "codemirror_mode": {
    "name": "ipython",
    "version": 3
   },
   "file_extension": ".py",
   "mimetype": "text/x-python",
   "name": "python",
   "nbconvert_exporter": "python",
   "pygments_lexer": "ipython3",
   "version": "3.6.7"
  }
 },
 "nbformat": 4,
 "nbformat_minor": 2
}
