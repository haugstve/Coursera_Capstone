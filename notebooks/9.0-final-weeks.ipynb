{
 "cells": [
  {
   "cell_type": "markdown",
   "metadata": {},
   "source": [
    "# The best place to rent\n",
    "\n",
    "Hill: A person visiting Manhattan can find the best neigbourhood for their needs without needing to do research\n",
    "\n",
    "Using foursquare and travel time this project will group neighboorhods based on venues in that neighboorhod and venues in neighboorhods that are close in travel time"
   ]
  },
  {
   "cell_type": "markdown",
   "metadata": {},
   "source": [
    "## Configure the notebook\n",
    "\n",
    "- Load file with secrets\n",
    "- Set some constants\n",
    "- Load libraries"
   ]
  },
  {
   "cell_type": "markdown",
   "metadata": {},
   "source": [
    "The API secrets are not pushed to github. This is handled by placing them in a file named secrets and removing version control from that file.\n",
    "Since the file is not in the same directory as the notebooks extra code is needed to add the path to the sys search path"
   ]
  },
  {
   "cell_type": "markdown",
   "metadata": {},
   "source": [
    "The secrets file containts two variables used in the Foursquare API: CLIENT_ID and CLIENT_SECRET\n",
    "It contains two variables used int the travel time API: APP_ID and API_KEY"
   ]
  },
  {
   "cell_type": "code",
   "execution_count": 1,
   "metadata": {},
   "outputs": [
    {
     "name": "stdout",
     "output_type": "stream",
     "text": [
      "secrets.py imported\n"
     ]
    }
   ],
   "source": [
    "import os\n",
    "project_folder_path = os.path.dirname(os.getcwd())\n",
    "project_folder_path\n",
    "import sys\n",
    "sys.path.insert(0, project_folder_path)\n",
    "\n",
    "import secrets\n",
    "print('secrets.py imported')"
   ]
  },
  {
   "cell_type": "markdown",
   "metadata": {},
   "source": [
    "The data path contains data loaded from the net. The sanbox accounts used to load the data have limits on the number of requests. Storing the results allows for restarting the kernal without having to make new calls to the API."
   ]
  },
  {
   "cell_type": "code",
   "execution_count": 2,
   "metadata": {},
   "outputs": [
    {
     "name": "stdout",
     "output_type": "stream",
     "text": [
      "Data path is :/Users/danielhaugstvedt/Developer/coursera_capstone/data/external/\n"
     ]
    }
   ],
   "source": [
    "DATA_PATH = project_folder_path + '/data/external/'\n",
    "print('Data path is :{}'.format(DATA_PATH))"
   ]
  },
  {
   "cell_type": "markdown",
   "metadata": {},
   "source": [
    "Import the standard libraries"
   ]
  },
  {
   "cell_type": "code",
   "execution_count": 3,
   "metadata": {},
   "outputs": [
    {
     "name": "stdout",
     "output_type": "stream",
     "text": [
      "Libraries imported.\n"
     ]
    }
   ],
   "source": [
    "import numpy as np # library to handle data in a vectorized manner\n",
    "import pandas as pd # library for data analsysis\n",
    "\n",
    "from geopy.geocoders import Nominatim # convert an address into latitude and longitude values\n",
    "\n",
    "import requests # library to handle requests\n",
    "import json\n",
    "from pandas.io.json import json_normalize # tranform JSON file into a pandas dataframe\n",
    "\n",
    "# Matplotlib and associated plotting modules\n",
    "import matplotlib.cm as cm\n",
    "import matplotlib.colors as colors\n",
    "\n",
    "# import k-means from clustering stage\n",
    "from sklearn.cluster import KMeans\n",
    "\n",
    "import folium # map rendering library\n",
    "\n",
    "import pickle # needed to store variables\n",
    "\n",
    "print('Libraries imported.')"
   ]
  },
  {
   "cell_type": "markdown",
   "metadata": {},
   "source": [
    "## Get neighborhoods in New York which are not in Manhattan \n",
    "\n",
    "The dataset with neighborhoods for New York exists for free on the [web](https://geo.nyu.edu/catalog/nyu_2451_34572)"
   ]
  },
  {
   "cell_type": "markdown",
   "metadata": {},
   "source": [
    "The information on the webpage where the download link is located gave this information for the element to download a geojson file\n",
    "```\n",
    "<a class=\"btn btn-primary btn-block download download-generated\" \n",
    "   data-download-path=\"/download/nyu-2451-34572?type=geojson\" \n",
    "    data-download=\"trigger\" \n",
    "    data-download-type=\"geojson\" \n",
    "    data-download-id=\"nyu-2451-34572\" href=\"\">Download\n",
    "</a>\n",
    "```"
   ]
  },
  {
   "cell_type": "markdown",
   "metadata": {},
   "source": [
    "Using this information i ran a request. The information from running a request to the URI: `https://geo.nyu.edu/download/nyu-2451-34572?type=geojson` was:\n",
    "\n",
    "`[['success',\n",
    "  '<a data-download=\"trigger\" data-download-id=\"nyu-2451-34572\" data-download-type=\"generated-geojson\" href=\"/download/file/nyu-2451-34572-geojson.json\">Your file nyu-2451-34572-geojson.json is ready for download</a>']]`\n",
    "  \n",
    "I used this information to run the second request:"
   ]
  },
  {
   "cell_type": "code",
   "execution_count": 4,
   "metadata": {},
   "outputs": [
    {
     "name": "stdout",
     "output_type": "stream",
     "text": [
      "Trying to open file: /Users/danielhaugstvedt/Developer/coursera_capstone/data/external/nyu-2451-34572-geojson.json\n",
      "Total number of features in geojsjon: 306\n"
     ]
    }
   ],
   "source": [
    "file_name = 'nyu-2451-34572-geojson.json'\n",
    "URI_NY = 'https://geo.nyu.edu/download/file/nyu-2451-34572-geojson.json'\n",
    "\n",
    "try: \n",
    "    print('Trying to open file: {}'.format(DATA_PATH + file_name))\n",
    "    with open(DATA_PATH + file_name, 'r') as infile:\n",
    "        ny_json = json.load(infile)\n",
    "except FileNotFoundError:\n",
    "    print('Failed to load json from local file, loading from web')\n",
    "    response_ny = requests.get(URI_NY)\n",
    "    print(response_ny.status_code, response_ny.reason)\n",
    "    \n",
    "    ny_json = response_ny.json()\n",
    "    with open(DATA_PATH + file_name, 'w') as outfile:\n",
    "        json.dump(ny_json, outfile)\n",
    "\n",
    "print('Total number of features in geojsjon: {}'.format(ny_json['totalFeatures']))"
   ]
  },
  {
   "cell_type": "markdown",
   "metadata": {},
   "source": [
    "Turn the json file into  a data frame"
   ]
  },
  {
   "cell_type": "code",
   "execution_count": 5,
   "metadata": {},
   "outputs": [],
   "source": [
    "neighborhoods_data = ny_json['features']\n",
    "\n",
    "# define the dataframe columns\n",
    "column_names = ['Borough', 'Neighborhood', 'Latitude', 'Longitude'] \n",
    "\n",
    "# instantiate the dataframe\n",
    "neighborhoods_ny = pd.DataFrame(columns=column_names)\n",
    "\n",
    "for data in neighborhoods_data:\n",
    "    borough = data['properties']['borough'] \n",
    "    neighborhood_name = data['properties']['name']\n",
    "        \n",
    "    neighborhood_latlon = data['geometry']['coordinates']\n",
    "    neighborhood_lat = neighborhood_latlon[1]\n",
    "    neighborhood_lon = neighborhood_latlon[0]\n",
    "    \n",
    "    neighborhoods_ny = neighborhoods_ny.append({'Borough': borough,\n",
    "                                          'Neighborhood': neighborhood_name,\n",
    "                                          'Latitude': neighborhood_lat,\n",
    "                                          'Longitude': neighborhood_lon}, ignore_index=True)"
   ]
  },
  {
   "cell_type": "code",
   "execution_count": 6,
   "metadata": {},
   "outputs": [
    {
     "data": {
      "text/html": [
       "<div>\n",
       "<style scoped>\n",
       "    .dataframe tbody tr th:only-of-type {\n",
       "        vertical-align: middle;\n",
       "    }\n",
       "\n",
       "    .dataframe tbody tr th {\n",
       "        vertical-align: top;\n",
       "    }\n",
       "\n",
       "    .dataframe thead th {\n",
       "        text-align: right;\n",
       "    }\n",
       "</style>\n",
       "<table border=\"1\" class=\"dataframe\">\n",
       "  <thead>\n",
       "    <tr style=\"text-align: right;\">\n",
       "      <th></th>\n",
       "      <th>Borough</th>\n",
       "      <th>Neighborhood</th>\n",
       "      <th>Latitude</th>\n",
       "      <th>Longitude</th>\n",
       "    </tr>\n",
       "  </thead>\n",
       "  <tbody>\n",
       "    <tr>\n",
       "      <th>0</th>\n",
       "      <td>Bronx</td>\n",
       "      <td>Wakefield</td>\n",
       "      <td>40.894705</td>\n",
       "      <td>-73.847201</td>\n",
       "    </tr>\n",
       "    <tr>\n",
       "      <th>1</th>\n",
       "      <td>Bronx</td>\n",
       "      <td>Co-op City</td>\n",
       "      <td>40.874294</td>\n",
       "      <td>-73.829939</td>\n",
       "    </tr>\n",
       "    <tr>\n",
       "      <th>2</th>\n",
       "      <td>Bronx</td>\n",
       "      <td>Eastchester</td>\n",
       "      <td>40.887556</td>\n",
       "      <td>-73.827806</td>\n",
       "    </tr>\n",
       "    <tr>\n",
       "      <th>3</th>\n",
       "      <td>Bronx</td>\n",
       "      <td>Fieldston</td>\n",
       "      <td>40.895437</td>\n",
       "      <td>-73.905643</td>\n",
       "    </tr>\n",
       "    <tr>\n",
       "      <th>4</th>\n",
       "      <td>Bronx</td>\n",
       "      <td>Riverdale</td>\n",
       "      <td>40.890834</td>\n",
       "      <td>-73.912585</td>\n",
       "    </tr>\n",
       "  </tbody>\n",
       "</table>\n",
       "</div>"
      ],
      "text/plain": [
       "  Borough Neighborhood   Latitude  Longitude\n",
       "0   Bronx    Wakefield  40.894705 -73.847201\n",
       "1   Bronx   Co-op City  40.874294 -73.829939\n",
       "2   Bronx  Eastchester  40.887556 -73.827806\n",
       "3   Bronx    Fieldston  40.895437 -73.905643\n",
       "4   Bronx    Riverdale  40.890834 -73.912585"
      ]
     },
     "execution_count": 6,
     "metadata": {},
     "output_type": "execute_result"
    }
   ],
   "source": [
    "neighborhoods_ny.head()"
   ]
  },
  {
   "cell_type": "code",
   "execution_count": 7,
   "metadata": {
    "collapsed": false
   },
   "outputs": [
    {
     "name": "stdout",
     "output_type": "stream",
     "text": [
      "The dataframe has 5 boroughs and 306 neighborhoods.\n"
     ]
    }
   ],
   "source": [
    "print('The dataframe has {} boroughs and {} neighborhoods.'.format(\n",
    "        len(neighborhoods_ny['Borough'].unique()),\n",
    "        neighborhoods_ny.shape[0]\n",
    "    )\n",
    ")"
   ]
  },
  {
   "cell_type": "markdown",
   "metadata": {},
   "source": [
    "Split the data in Manhattan and not Manhattan"
   ]
  },
  {
   "cell_type": "code",
   "execution_count": 8,
   "metadata": {},
   "outputs": [],
   "source": [
    "neighborhoods_not_manhattan = (neighborhoods_ny.loc[neighborhoods_ny['Borough'] != 'Manhattan', \n",
    "                                     ['Neighborhood', 'Latitude', 'Longitude']]\n",
    "                                 .reset_index(drop=True))\n",
    "neighborhoods_manhattan = (neighborhoods_ny.loc[neighborhoods_ny['Borough'] != 'Manhattan', \n",
    "                                     ['Neighborhood', 'Latitude', 'Longitude']]\n",
    "                                 .reset_index(drop=True))"
   ]
  },
  {
   "cell_type": "markdown",
   "metadata": {},
   "source": [
    "## Get the foursquare data for Manhattan\n",
    "\n",
    "Using the foursquare API, get the venues in New York"
   ]
  },
  {
   "cell_type": "code",
   "execution_count": 9,
   "metadata": {},
   "outputs": [],
   "source": [
    "neighborhood_latitude = neighborhoods_not_manhattan['Latitude'] # neighborhood latitude value\n",
    "neighborhood_longitude = neighborhoods_not_manhattan['Longitude'] # neighborhood longitude value\n",
    "neighborhood_name = neighborhoods_not_manhattan['Neighborhood'] # neighborhood name"
   ]
  },
  {
   "cell_type": "markdown",
   "metadata": {},
   "source": [
    "Set some global variables to use in the four square API\n"
   ]
  },
  {
   "cell_type": "code",
   "execution_count": 10,
   "metadata": {},
   "outputs": [],
   "source": [
    "# We want the real number, not a relative number\n",
    "# Thereforw we set the limit to be so high that there should never be any venues droped (this is tested)\n",
    "LIMIT = 500 \n",
    "VERSION = '20180605' "
   ]
  },
  {
   "cell_type": "markdown",
   "metadata": {},
   "source": [
    "Define a function for gettingt nearby venues"
   ]
  },
  {
   "cell_type": "code",
   "execution_count": 11,
   "metadata": {},
   "outputs": [],
   "source": [
    "def getNearbyVenues(names, latitudes, longitudes, radius=500):\n",
    "    \n",
    "    venues_list=[]\n",
    "    for name, lat, lng in zip(names, latitudes, longitudes):\n",
    "        \n",
    "        url = 'https://api.foursquare.com/v2/venues/explore?&client_id={}&client_secret={}&v={}&ll={},{}&radius={}&limit={}'.format(\n",
    "            secrets.CLIENT_ID, \n",
    "            secrets.CLIENT_SECRET, \n",
    "            VERSION, \n",
    "            lat, \n",
    "            lng, \n",
    "            radius, \n",
    "            LIMIT)\n",
    "\n",
    "        results_object = requests.get(url)\n",
    "        if results_object.status_code != 200:\n",
    "            print('A request failed with status code: {} and reason: {}'.format(\n",
    "                    results_object.status_code, \n",
    "                    results_object.reason))\n",
    "            break\n",
    "        \n",
    "        results = results_object.json()[\"response\"]['groups'][0]['items']\n",
    "        print('{} has {} venues'.format(name, len(results)))\n",
    "        \n",
    "        # return only relevant information for each nearby venue\n",
    "        venues_list.append([(\n",
    "            name, \n",
    "            lat, \n",
    "            lng, \n",
    "            v['venue']['name'], \n",
    "            v['venue']['location']['lat'], \n",
    "            v['venue']['location']['lng'],  \n",
    "            v['venue']['categories'][0]['name']) for v in results])\n",
    "\n",
    "    print('makeing a data frame and returning it ')\n",
    "    nearby_venues = pd.DataFrame([item for venue_list in venues_list for item in venue_list])\n",
    "    nearby_venues.columns = ['Neighborhood', \n",
    "                  'Neighborhood Latitude', \n",
    "                  'Neighborhood Longitude', \n",
    "                  'Venue', \n",
    "                  'Venue Latitude', \n",
    "                  'Venue Longitude', \n",
    "                  'Venue Category']\n",
    "    \n",
    "    return(nearby_venues)"
   ]
  },
  {
   "cell_type": "markdown",
   "metadata": {},
   "source": [
    "Check for a file with the data Call the function for getting nearby venues\n",
    "\n",
    "The distance used is calculated like this\n",
    "- Average walking speed 5 km/h\n",
    "- Converted to m/min this is 83.33\n",
    "- A 5 min walk is **416 m**"
   ]
  },
  {
   "cell_type": "code",
   "execution_count": 13,
   "metadata": {},
   "outputs": [
    {
     "name": "stdout",
     "output_type": "stream",
     "text": [
      "Trying to open file: /Users/danielhaugstvedt/Developer/coursera_capstone/data/external/ny_venues.json\n",
      "Failed to load json from local file, trying to load from web\n",
      "Wakefield has 3 venues\n",
      "Co-op City has 12 venues\n",
      "Eastchester has 19 venues\n",
      "Fieldston has 3 venues\n",
      "Riverdale has 6 venues\n",
      "Kingsbridge has 49 venues\n",
      "Woodlawn has 15 venues\n",
      "Norwood has 23 venues\n",
      "Williamsbridge has 5 venues\n",
      "Baychester has 9 venues\n",
      "Pelham Parkway has 18 venues\n",
      "City Island has 23 venues\n",
      "Bedford Park has 31 venues\n",
      "University Heights has 19 venues\n",
      "Morris Heights has 9 venues\n",
      "Fordham has 65 venues\n",
      "East Tremont has 14 venues\n",
      "West Farms has 14 venues\n",
      "High  Bridge has 20 venues\n",
      "Melrose has 17 venues\n",
      "Mott Haven has 24 venues\n",
      "Port Morris has 13 venues\n",
      "Longwood has 7 venues\n",
      "Hunts Point has 9 venues\n",
      "Morrisania has 18 venues\n",
      "Soundview has 13 venues\n",
      "Clason Point has 7 venues\n",
      "Throgs Neck has 2 venues\n",
      "Country Club has 5 venues\n",
      "Parkchester has 22 venues\n",
      "Westchester Square has 30 venues\n",
      "Van Nest has 21 venues\n",
      "Morris Park has 15 venues\n",
      "Belmont has 84 venues\n",
      "Spuyten Duyvil has 7 venues\n",
      "North Riverdale has 15 venues\n",
      "Pelham Bay has 25 venues\n",
      "Schuylerville has 12 venues\n",
      "Edgewater Park has 11 venues\n",
      "Castle Hill has 6 venues\n",
      "Olinville has 13 venues\n",
      "Pelham Gardens has 14 venues\n",
      "Concourse has 17 venues\n",
      "Unionport has 16 venues\n",
      "Edenwald has 9 venues\n",
      "Bay Ridge has 58 venues\n",
      "Bensonhurst has 14 venues\n",
      "Sunset Park has 28 venues\n",
      "Greenpoint has 100 venues\n",
      "Gravesend has 20 venues\n",
      "Brighton Beach has 33 venues\n",
      "Sheepshead Bay has 6 venues\n",
      "Manhattan Terrace has 4 venues\n",
      "Flatbush has 16 venues\n",
      "Crown Heights has 21 venues\n",
      "East Flatbush has 11 venues\n",
      "Kensington has 33 venues\n",
      "Windsor Terrace has 41 venues\n",
      "Prospect Heights has 62 venues\n",
      "Brownsville has 13 venues\n",
      "Williamsburg has 23 venues\n",
      "Bushwick has 47 venues\n",
      "Bedford Stuyvesant has 15 venues\n",
      "Brooklyn Heights has 86 venues\n",
      "Cobble Hill has 49 venues\n",
      "Carroll Gardens has 90 venues\n",
      "Red Hook has 36 venues\n",
      "Gowanus has 28 venues\n",
      "Fort Greene has 65 venues\n",
      "Park Slope has 48 venues\n",
      "Cypress Hills has 21 venues\n",
      "East New York has 7 venues\n",
      "Starrett City has 10 venues\n",
      "Canarsie has 4 venues\n",
      "Flatlands has 14 venues\n",
      "Mill Island has 2 venues\n",
      "Manhattan Beach has 4 venues\n",
      "Coney Island has 10 venues\n",
      "Bath Beach has 22 venues\n",
      "Borough Park has 10 venues\n",
      "Dyker Heights has 8 venues\n",
      "Gerritsen Beach has 3 venues\n",
      "Marine Park has 11 venues\n",
      "Clinton Hill has 67 venues\n",
      "Sea Gate has 6 venues\n",
      "Downtown has 100 venues\n",
      "Boerum Hill has 54 venues\n",
      "Prospect Lefferts Gardens has 20 venues\n",
      "Ocean Hill has 20 venues\n",
      "City Line has 38 venues\n",
      "Bergen Beach has 5 venues\n",
      "Midwood has 12 venues\n",
      "Prospect Park South has 33 venues\n",
      "Georgetown has 22 venues\n",
      "East Williamsburg has 60 venues\n",
      "North Side has 100 venues\n",
      "South Side has 100 venues\n",
      "Ocean Parkway has 6 venues\n",
      "Fort Hamilton has 57 venues\n",
      "Astoria has 65 venues\n",
      "Woodside has 58 venues\n",
      "Jackson Heights has 36 venues\n",
      "Elmhurst has 21 venues\n",
      "Howard Beach has 37 venues\n",
      "Corona has 17 venues\n",
      "Forest Hills has 12 venues\n",
      "Kew Gardens has 21 venues\n",
      "Richmond Hill has 19 venues\n",
      "Flushing has 48 venues\n",
      "Long Island City has 66 venues\n",
      "Sunnyside has 23 venues\n",
      "East Elmhurst has 9 venues\n",
      "Maspeth has 22 venues\n",
      "Ridgewood has 29 venues\n",
      "Glendale has 3 venues\n",
      "Rego Park has 35 venues\n",
      "Woodhaven has 18 venues\n",
      "Ozone Park has 28 venues\n",
      "South Ozone Park has 7 venues\n",
      "College Point has 29 venues\n",
      "Whitestone has 3 venues\n",
      "Bayside has 59 venues\n",
      "Auburndale has 5 venues\n",
      "Little Neck has 40 venues\n",
      "Douglaston has 14 venues\n",
      "Glen Oaks has 16 venues\n",
      "Bellerose has 14 venues\n",
      "Kew Gardens Hills has 16 venues\n",
      "Fresh Meadows has 11 venues\n",
      "Briarwood has 8 venues\n",
      "Jamaica Center has 33 venues\n",
      "Oakland Gardens has 25 venues\n",
      "Queens Village has 22 venues\n",
      "Hollis has 9 venues\n",
      "South Jamaica has 11 venues\n",
      "St. Albans has 8 venues\n",
      "Rochdale has 12 venues\n",
      "Springfield Gardens has 11 venues\n",
      "Cambria Heights has 12 venues\n",
      "Rosedale has 9 venues\n",
      "Far Rockaway has 30 venues\n",
      "Broad Channel has 4 venues\n",
      "Breezy Point has 4 venues\n",
      "Steinway has 25 venues\n",
      "Beechhurst has 15 venues\n",
      "Bay Terrace has 22 venues\n",
      "Edgemere has 4 venues\n",
      "Arverne has 7 venues\n",
      "Rockaway Beach has 40 venues\n",
      "Neponsit has 6 venues\n",
      "Murray Hill has 37 venues\n",
      "Floral Park has 1 venues\n",
      "Holliswood has 2 venues\n",
      "Jamaica Estates has 2 venues\n",
      "Queensboro Hill has 20 venues\n",
      "Hillcrest has 15 venues\n",
      "Ravenswood has 15 venues\n",
      "Lindenwood has 12 venues\n",
      "Laurelton has 4 venues\n",
      "Lefrak City has 33 venues\n",
      "Belle Harbor has 5 venues\n",
      "Rockaway Park has 23 venues\n",
      "Somerville has 2 venues\n",
      "Brookville has 2 venues\n",
      "Bellaire has 5 venues\n",
      "North Corona has 13 venues\n",
      "Forest Hills Gardens has 11 venues\n",
      "St. George has 18 venues\n",
      "New Brighton has 13 venues\n",
      "Stapleton has 37 venues\n",
      "Rosebank has 22 venues\n",
      "West Brighton has 30 venues\n",
      "Grymes Hill has 0 venues\n",
      "Todt Hill has 2 venues\n",
      "South Beach has 4 venues\n",
      "Port Richmond has 5 venues\n",
      "Mariner's Harbor has 6 venues\n",
      "Port Ivory has 1 venues\n",
      "Castleton Corners has 13 venues\n",
      "New Springville has 19 venues\n",
      "Travis has 8 venues\n",
      "New Dorp has 19 venues\n",
      "Oakwood has 6 venues\n",
      "Great Kills has 22 venues\n",
      "Eltingville has 31 venues\n",
      "Annadale has 6 venues\n",
      "Woodrow has 18 venues\n",
      "Tottenville has 4 venues\n",
      "Tompkinsville has 16 venues\n",
      "Silver Lake has 3 venues\n",
      "Sunnyside has 6 venues\n",
      "Ditmas Park has 36 venues\n",
      "Wingate has 14 venues\n",
      "Rugby has 12 venues\n",
      "Park Hill has 3 venues\n",
      "A request failed with status code: 504 and reason: Gateway Time-out\n",
      "makeing a data frame and returning it \n"
     ]
    }
   ],
   "source": [
    "radius = 416 # The four square limit parameter uses meters\n",
    "file_name = 'ny_venues.json'\n",
    "try:\n",
    "    print('Trying to open file: {}'.format(DATA_PATH + file_name))\n",
    "    with open(DATA_PATH + file_name, 'rb') as infile:\n",
    "        ny_venues = pickle.load(infile)\n",
    "        print('Sucess loading from file')\n",
    "except FileNotFoundError:\n",
    "    print('Failed to load json from local file, trying to load from web')\n",
    "    ny_venues = getNearbyVenues(neighborhood_name, neighborhood_latitude, neighborhood_longitude, radius)\n",
    "    with open(DATA_PATH + file_name, 'wb') as outfile:\n",
    "        pickle.dump(ny_venues, outfile)"
   ]
  },
  {
   "cell_type": "code",
   "execution_count": 20,
   "metadata": {},
   "outputs": [
    {
     "name": "stdout",
     "output_type": "stream",
     "text": [
      "(4236, 7)\n"
     ]
    },
    {
     "data": {
      "text/html": [
       "<div>\n",
       "<style scoped>\n",
       "    .dataframe tbody tr th:only-of-type {\n",
       "        vertical-align: middle;\n",
       "    }\n",
       "\n",
       "    .dataframe tbody tr th {\n",
       "        vertical-align: top;\n",
       "    }\n",
       "\n",
       "    .dataframe thead th {\n",
       "        text-align: right;\n",
       "    }\n",
       "</style>\n",
       "<table border=\"1\" class=\"dataframe\">\n",
       "  <thead>\n",
       "    <tr style=\"text-align: right;\">\n",
       "      <th></th>\n",
       "      <th>Neighborhood</th>\n",
       "      <th>Neighborhood Latitude</th>\n",
       "      <th>Neighborhood Longitude</th>\n",
       "      <th>Venue</th>\n",
       "      <th>Venue Latitude</th>\n",
       "      <th>Venue Longitude</th>\n",
       "      <th>Venue Category</th>\n",
       "    </tr>\n",
       "  </thead>\n",
       "  <tbody>\n",
       "    <tr>\n",
       "      <th>0</th>\n",
       "      <td>Wakefield</td>\n",
       "      <td>40.894705</td>\n",
       "      <td>-73.847201</td>\n",
       "      <td>Lollipops Gelato</td>\n",
       "      <td>40.894123</td>\n",
       "      <td>-73.845892</td>\n",
       "      <td>Dessert Shop</td>\n",
       "    </tr>\n",
       "    <tr>\n",
       "      <th>1</th>\n",
       "      <td>Wakefield</td>\n",
       "      <td>40.894705</td>\n",
       "      <td>-73.847201</td>\n",
       "      <td>Rite Aid</td>\n",
       "      <td>40.896521</td>\n",
       "      <td>-73.844680</td>\n",
       "      <td>Pharmacy</td>\n",
       "    </tr>\n",
       "    <tr>\n",
       "      <th>2</th>\n",
       "      <td>Wakefield</td>\n",
       "      <td>40.894705</td>\n",
       "      <td>-73.847201</td>\n",
       "      <td>Pitman Deli</td>\n",
       "      <td>40.894149</td>\n",
       "      <td>-73.845748</td>\n",
       "      <td>Food</td>\n",
       "    </tr>\n",
       "    <tr>\n",
       "      <th>3</th>\n",
       "      <td>Co-op City</td>\n",
       "      <td>40.874294</td>\n",
       "      <td>-73.829939</td>\n",
       "      <td>Capri II Pizza</td>\n",
       "      <td>40.876374</td>\n",
       "      <td>-73.829940</td>\n",
       "      <td>Pizza Place</td>\n",
       "    </tr>\n",
       "    <tr>\n",
       "      <th>4</th>\n",
       "      <td>Co-op City</td>\n",
       "      <td>40.874294</td>\n",
       "      <td>-73.829939</td>\n",
       "      <td>Sleepy's Co-Op City</td>\n",
       "      <td>40.872234</td>\n",
       "      <td>-73.828607</td>\n",
       "      <td>Mattress Store</td>\n",
       "    </tr>\n",
       "  </tbody>\n",
       "</table>\n",
       "</div>"
      ],
      "text/plain": [
       "  Neighborhood  Neighborhood Latitude  Neighborhood Longitude  \\\n",
       "0    Wakefield              40.894705              -73.847201   \n",
       "1    Wakefield              40.894705              -73.847201   \n",
       "2    Wakefield              40.894705              -73.847201   \n",
       "3   Co-op City              40.874294              -73.829939   \n",
       "4   Co-op City              40.874294              -73.829939   \n",
       "\n",
       "                 Venue  Venue Latitude  Venue Longitude  Venue Category  \n",
       "0     Lollipops Gelato       40.894123       -73.845892    Dessert Shop  \n",
       "1             Rite Aid       40.896521       -73.844680        Pharmacy  \n",
       "2          Pitman Deli       40.894149       -73.845748            Food  \n",
       "3       Capri II Pizza       40.876374       -73.829940     Pizza Place  \n",
       "4  Sleepy's Co-Op City       40.872234       -73.828607  Mattress Store  "
      ]
     },
     "execution_count": 20,
     "metadata": {},
     "output_type": "execute_result"
    }
   ],
   "source": [
    "print(ny_venues.shape)\n",
    "ny_venues.head()"
   ]
  },
  {
   "cell_type": "markdown",
   "metadata": {},
   "source": [
    "## Get the travel time between the different neighborhoods\n",
    "\n",
    "Using the traveltime API, get the travel time between the different neighborhoods"
   ]
  },
  {
   "cell_type": "markdown",
   "metadata": {},
   "source": [
    "**Post request example**\n",
    "\n",
    "```\n",
    "POST /v4/time-filter HTTP/1.1\n",
    "Host: api.traveltimeapp.com\n",
    "Content-Type: application/json\n",
    "Accept: application/json\n",
    "X-Application-Id: APP_ID\n",
    "X-Api-Key: API_KEY\n",
    "```"
   ]
  },
  {
   "cell_type": "markdown",
   "metadata": {},
   "source": [
    "Convert the information in the post request example to URI and header"
   ]
  },
  {
   "cell_type": "code",
   "execution_count": 15,
   "metadata": {},
   "outputs": [],
   "source": [
    "URI_traveltime = 'HTTPS://api.traveltimeapp.com/v4/time-filter'\n",
    "headers = {'Host': 'api.traveltimeapp.com',\n",
    "           'Content-Type': 'application/json', \n",
    "           'Accept': 'application/json', \n",
    "           'X-Application-Id': secrets.APP_ID, # APP ID is in separate file not under version control\n",
    "           'X-Api-Key': secrets.API_KEY} # API_KEY is in separate file not under version control"
   ]
  },
  {
   "cell_type": "markdown",
   "metadata": {},
   "source": [
    "**JSON data as raw string**\n",
    "\n",
    "The json request is long, double clik to view"
   ]
  },
  {
   "cell_type": "code",
   "execution_count": 16,
   "metadata": {},
   "outputs": [],
   "source": [
    "raw_json_text=\"\"\"{\n",
    "  \"locations\": [\n",
    "    {\n",
    "      \"id\": \"London center\",\n",
    "      \"coords\": {\n",
    "        \"lat\": 51.508930,\n",
    "        \"lng\": -0.131387\n",
    "      }\n",
    "    },\n",
    "    {\n",
    "      \"id\": \"Hyde Park\",\n",
    "      \"coords\": {\n",
    "        \"lat\": 51.508824,\n",
    "        \"lng\": -0.167093\n",
    "      }\n",
    "    },\n",
    "    {\n",
    "      \"id\": \"ZSL London Zoo\",\n",
    "      \"coords\": {\n",
    "        \"lat\": 51.536067,\n",
    "        \"lng\": -0.153596\n",
    "      }\n",
    "    }\n",
    "  ],\n",
    "  \"departure_searches\": [\n",
    "    {\n",
    "      \"id\": \"forward search example\",\n",
    "      \"departure_location_id\": \"London center\",\n",
    "      \"arrival_location_ids\": [\n",
    "        \"Hyde Park\",\n",
    "        \"ZSL London Zoo\"\n",
    "      ],\n",
    "      \"transportation\": {\n",
    "        \"type\": \"bus\"\n",
    "      },\n",
    "      \"departure_time\": \"2019-01-11T08:00:00Z\",\n",
    "      \"travel_time\": 1800,\n",
    "      \"properties\": [\n",
    "        \"travel_time\"\n",
    "      ],\n",
    "      \"range\": {\n",
    "        \"enabled\": true,\n",
    "        \"max_results\": 3,\n",
    "        \"width\": 600\n",
    "      }\n",
    "    }\n",
    "  ],\n",
    "  \"arrival_searches\": [\n",
    "    {\n",
    "      \"id\": \"backward search example\",\n",
    "      \"departure_location_ids\": [\n",
    "        \"Hyde Park\",\n",
    "        \"ZSL London Zoo\"\n",
    "      ],\n",
    "      \"arrival_location_id\": \"London center\",\n",
    "      \"transportation\": {\n",
    "        \"type\": \"public_transport\"\n",
    "      },\n",
    "      \"arrival_time\": \"2019-01-11T08:00:00Z\",\n",
    "      \"travel_time\": 1900,\n",
    "      \"properties\": [\n",
    "        \"travel_time\",\n",
    "        \"distance\",\n",
    "        \"distance_breakdown\",\n",
    "        \"fares\"\n",
    "      ]\n",
    "    }\n",
    "  ]\n",
    "}\"\"\"\n",
    "\n",
    "cleaned_json_text = (raw_json_text.replace('\\n','')\n",
    "                                  .replace(\" \", \"\"))\n",
    "data = json.loads(cleaned_json_text)\n",
    "data"
   ]
  },
  {
   "cell_type": "markdown",
   "metadata": {},
   "source": [
    "Make raw json string into json"
   ]
  },
  {
   "cell_type": "markdown",
   "metadata": {},
   "source": [
    "Make the post request and check that it is OK"
   ]
  },
  {
   "cell_type": "code",
   "execution_count": 18,
   "metadata": {},
   "outputs": [
    {
     "name": "stdout",
     "output_type": "stream",
     "text": [
      "200 OK\n"
     ]
    }
   ],
   "source": [
    "r = requests.post(URI_traveltime, headers=headers, json=data)\n",
    "\n",
    "print(r.status_code, r.reason)"
   ]
  },
  {
   "cell_type": "markdown",
   "metadata": {},
   "source": [
    "**This is an example of the json data in the request**\n",
    "Double click to see the example"
   ]
  },
  {
   "cell_type": "markdown",
   "metadata": {},
   "source": [
    "```\n",
    "{\n",
    "  \"locations\": [\n",
    "    {\n",
    "      \"id\": \"London center\",\n",
    "      \"coords\": {\n",
    "        \"lat\": 51.508930,\n",
    "        \"lng\": -0.131387\n",
    "      }\n",
    "    },\n",
    "    {\n",
    "      \"id\": \"Hyde Park\",\n",
    "      \"coords\": {\n",
    "        \"lat\": 51.508824,\n",
    "        \"lng\": -0.167093\n",
    "      }\n",
    "    },\n",
    "    {\n",
    "      \"id\": \"ZSL London Zoo\",\n",
    "      \"coords\": {\n",
    "        \"lat\": 51.536067,\n",
    "        \"lng\": -0.153596\n",
    "      }\n",
    "    }\n",
    "  ],\n",
    "  \"departure_searches\": [\n",
    "    {\n",
    "      \"id\": \"forward search example\",\n",
    "      \"departure_location_id\": \"London center\",\n",
    "      \"arrival_location_ids\": [\n",
    "        \"Hyde Park\",\n",
    "        \"ZSL London Zoo\"\n",
    "      ],\n",
    "      \"transportation\": {\n",
    "        \"type\": \"bus\"\n",
    "      },\n",
    "      \"departure_time\": \"2019-01-11T08:00:00Z\",\n",
    "      \"travel_time\": 1800,\n",
    "      \"properties\": [\n",
    "        \"travel_time\"\n",
    "      ],\n",
    "      \"range\": {\n",
    "        \"enabled\": true,\n",
    "        \"max_results\": 3,\n",
    "        \"width\": 600\n",
    "      }\n",
    "    }\n",
    "  ],\n",
    "  \"arrival_searches\": [\n",
    "    {\n",
    "      \"id\": \"backward search example\",\n",
    "      \"departure_location_ids\": [\n",
    "        \"Hyde Park\",\n",
    "        \"ZSL London Zoo\"\n",
    "      ],\n",
    "      \"arrival_location_id\": \"London center\",\n",
    "      \"transportation\": {\n",
    "        \"type\": \"public_transport\"\n",
    "      },\n",
    "      \"arrival_time\": \"2019-01-11T08:00:00Z\",\n",
    "      \"travel_time\": 1900,\n",
    "      \"properties\": [\n",
    "        \"travel_time\",\n",
    "        \"distance\",\n",
    "        \"distance_breakdown\",\n",
    "        \"fares\"\n",
    "      ]\n",
    "    }\n",
    "  ]\n",
    "}\n",
    "```"
   ]
  },
  {
   "cell_type": "code",
   "execution_count": 19,
   "metadata": {},
   "outputs": [
    {
     "data": {
      "text/plain": [
       "{'results': [{'search_id': 'backwardsearchexample',\n",
       "   'locations': [{'id': 'HydePark',\n",
       "     'properties': [{'travel_time': 1892,\n",
       "       'distance': 0,\n",
       "       'distance_breakdown': [{'mode': 'bus', 'distance': 2879},\n",
       "        {'mode': 'walk', 'distance': 826}],\n",
       "       'fares': {'breakdown': [{'modes': ['bus'],\n",
       "          'route_part_ids': [6],\n",
       "          'tickets': [{'type': 'single', 'price': 1.5, 'currency': 'GBP'}]},\n",
       "         {'modes': ['bus'],\n",
       "          'route_part_ids': [7],\n",
       "          'tickets': [{'type': 'single', 'price': 1.5, 'currency': 'GBP'}]},\n",
       "         {'modes': ['bus'],\n",
       "          'route_part_ids': [5],\n",
       "          'tickets': [{'type': 'single', 'price': 1.5, 'currency': 'GBP'}]},\n",
       "         {'modes': ['bus'],\n",
       "          'route_part_ids': [5, 7, 6],\n",
       "          'tickets': [{'type': 'week', 'price': 21, 'currency': 'GBP'},\n",
       "           {'type': 'month', 'price': 80.7, 'currency': 'GBP'},\n",
       "           {'type': 'year', 'price': 840, 'currency': 'GBP'}]}],\n",
       "        'tickets_total': [{'type': 'week', 'price': 21, 'currency': 'GBP'},\n",
       "         {'type': 'month', 'price': 80.7, 'currency': 'GBP'},\n",
       "         {'type': 'year', 'price': 840, 'currency': 'GBP'},\n",
       "         {'type': 'single', 'price': 4.5, 'currency': 'GBP'}]}}]}],\n",
       "   'unreachable': ['ZSLLondonZoo']},\n",
       "  {'search_id': 'forwardsearchexample',\n",
       "   'locations': [{'id': 'HydePark', 'properties': [{'travel_time': 1709}]}],\n",
       "   'unreachable': ['ZSLLondonZoo']}]}"
      ]
     },
     "execution_count": 19,
     "metadata": {},
     "output_type": "execute_result"
    }
   ],
   "source": [
    "r.json()"
   ]
  },
  {
   "cell_type": "markdown",
   "metadata": {},
   "source": [
    "## Visualize the map \n",
    "\n",
    "Use the geocoding from travel time to get longetiude and altitude of manhattan\n",
    "\n",
    "Use the longitude and latitude to make a map of manhattan\n",
    "\n",
    "Add labels for every neigbouthoods into the manhattan map"
   ]
  },
  {
   "cell_type": "code",
   "execution_count": null,
   "metadata": {},
   "outputs": [],
   "source": [
    "query = 'Central Park, New York'\n",
    "URI_traveltime = 'HTTPS://api.traveltimeapp.com/v4/geocoding/search?query={}'.format(query)\n",
    "print('URI is : {}'.format(URI_traveltime))\n",
    "headers = {'Host': 'api.traveltimeapp.com',\n",
    "           'Accept': 'application/json', \n",
    "           'X-Application-Id': secrets.APP_ID, # APP ID is in separate file not under version control\n",
    "           'X-Api-Key': secrets.API_KEY} # API_KEY is in separate file not under version control"
   ]
  },
  {
   "cell_type": "code",
   "execution_count": null,
   "metadata": {},
   "outputs": [],
   "source": [
    "r = requests.get(URI_traveltime, headers=headers)\n",
    "\n",
    "print(r.status_code, r.reason)\n",
    "r.url"
   ]
  },
  {
   "cell_type": "code",
   "execution_count": null,
   "metadata": {},
   "outputs": [],
   "source": [
    "r.json()"
   ]
  },
  {
   "cell_type": "code",
   "execution_count": null,
   "metadata": {},
   "outputs": [],
   "source": [
    "manhattan_location_data = r.json()['features'][0]\n",
    "[longitude, latitude] = manhattan_location_data['geometry']['coordinates']"
   ]
  },
  {
   "cell_type": "code",
   "execution_count": null,
   "metadata": {},
   "outputs": [],
   "source": [
    "# create map of Manhattan using latitude and longitude values\n",
    "map_manhattan = folium.Map(location=[latitude, longitude], zoom_start=12)\n",
    "\n",
    "# add markers to map\n",
    "for lat, lng, label in zip(neighborhoods['Latitude'], neighborhoods['Longitude'], neighborhoods['Neighborhood']):\n",
    "    label = folium.Popup(label, parse_html=True)\n",
    "    folium.CircleMarker(\n",
    "        [lat, lng],\n",
    "        radius=5,\n",
    "        popup=label,\n",
    "        color='blue',\n",
    "        fill=True,\n",
    "        fill_color='#3186cc',\n",
    "        fill_opacity=0.7).add_to(map_manhattan)  \n",
    "map_manhattan"
   ]
  }
 ],
 "metadata": {
  "kernelspec": {
   "display_name": "Python [conda env:coursera_capstone]",
   "language": "python",
   "name": "conda-env-coursera_capstone-py"
  },
  "language_info": {
   "codemirror_mode": {
    "name": "ipython",
    "version": 3
   },
   "file_extension": ".py",
   "mimetype": "text/x-python",
   "name": "python",
   "nbconvert_exporter": "python",
   "pygments_lexer": "ipython3",
   "version": "3.6.7"
  }
 },
 "nbformat": 4,
 "nbformat_minor": 2
}
